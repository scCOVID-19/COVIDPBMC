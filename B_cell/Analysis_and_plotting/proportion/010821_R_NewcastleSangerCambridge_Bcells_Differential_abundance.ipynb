{
 "cells": [
  {
   "cell_type": "code",
   "execution_count": 1,
   "metadata": {},
   "outputs": [
    {
     "name": "stderr",
     "output_type": "stream",
     "text": [
      "\n",
      "Attaching package: ‘dplyr’\n",
      "\n",
      "\n",
      "The following objects are masked from ‘package:stats’:\n",
      "\n",
      "    filter, lag\n",
      "\n",
      "\n",
      "The following objects are masked from ‘package:base’:\n",
      "\n",
      "    intersect, setdiff, setequal, union\n",
      "\n",
      "\n"
     ]
    }
   ],
   "source": [
    "# set up the model\n",
    "setwd('/lustre/scratch117/cellgen/team297/kt16/newcastle_covid')\n",
    "library(dplyr)\n",
    "\n",
    "bcell.df <- read.csv(\"h5ad/combined_dec_bcells_obs.csv\")\n",
    "\n",
    "covid.meta <- bcell.df[,c('sample_id', 'patient_id', 'Status_on_day_collection_summary', 'Age', 'Sex', 'Collection_Day')] %>% distinct()\n",
    "rownames(covid.meta) <- covid.meta$sample_id\n",
    "\n",
    "bcell.meta <- covid.meta[!covid.meta$Status_on_day_collection_summary %in% c(\"Non_covid\", \"LPS\"),]\n",
    "bcell.meta$OrderedSeverity <- ordered(bcell.meta$Status_on_day_collection_summary, levels=c(\"Healthy\", \"Asymptomatic\", \"Mild\", \"Moderate\", \"Severe\", \"Critical\"))\n",
    "\n",
    "bcell.model <- model.matrix(~ Sex + Age + OrderedSeverity, data=bcell.meta[bcell.meta$Collection_Day %in% c(\"D0\"), ])"
   ]
  },
  {
   "cell_type": "code",
   "execution_count": 2,
   "metadata": {},
   "outputs": [
    {
     "name": "stderr",
     "output_type": "stream",
     "text": [
      "Loading required package: limma\n",
      "\n"
     ]
    }
   ],
   "source": [
    "# count cells\n",
    "cell.freq.tab <- t(table(bcell.df$sample_id[bcell.df$Collection_Day %in% c(\"D0\") &\n",
    "                                                        !bcell.df$Status_on_day_collection_summary %in% c(\"LPS\", \"Non_covid\")],\n",
    "                         bcell.df$celltype_B[bcell.df$Collection_Day %in% c(\"D0\") &\n",
    "                                                        !bcell.df$Status_on_day_collection_summary %in% c(\"LPS\", \"Non_covid\")]))\n",
    "cell.freq.tab <- cell.freq.tab[,colSums(cell.freq.tab) != 0]\n",
    "bcell.model <- bcell.model[colnames(cell.freq.tab), ]\n",
    "\n",
    "n.cell.vecc <- table(bcell.df$sample_id)\n",
    "\n",
    "library(edgeR)\n",
    "bcell.dge <- DGEList(cell.freq.tab, lib.size=log(n.cell.vecc[colnames(cell.freq.tab)]))"
   ]
  },
  {
   "cell_type": "code",
   "execution_count": 3,
   "metadata": {},
   "outputs": [],
   "source": [
    "#estimate dispersions and fit model\n",
    "bcell.dge <- estimateDisp(bcell.dge, design=bcell.model)\n",
    "bcell.linear.fit <- glmQLFit(bcell.dge, bcell.model, robust=TRUE)"
   ]
  },
  {
   "cell_type": "code",
   "execution_count": 4,
   "metadata": {},
   "outputs": [
    {
     "data": {
      "text/html": [
       "<table>\n",
       "<caption>A data.frame: 9 × 8</caption>\n",
       "<thead>\n",
       "\t<tr><th></th><th scope=col>logFC</th><th scope=col>logCPM</th><th scope=col>F</th><th scope=col>PValue</th><th scope=col>FDR</th><th scope=col>CellType</th><th scope=col>Sig</th><th scope=col>Diff</th></tr>\n",
       "\t<tr><th></th><th scope=col>&lt;dbl&gt;</th><th scope=col>&lt;dbl&gt;</th><th scope=col>&lt;dbl&gt;</th><th scope=col>&lt;dbl&gt;</th><th scope=col>&lt;dbl&gt;</th><th scope=col>&lt;chr&gt;</th><th scope=col>&lt;dbl&gt;</th><th scope=col>&lt;dbl&gt;</th></tr>\n",
       "</thead>\n",
       "<tbody>\n",
       "\t<tr><th scope=row>B_exhausted</th><td> 0.2681812</td><td>15.44288</td><td> 0.930243</td><td>3.366870e-01</td><td>3.366870e-01</td><td>B_exhausted          </td><td>0</td><td> 0</td></tr>\n",
       "\t<tr><th scope=row>B_immature</th><td>-0.4307860</td><td>16.33239</td><td> 3.723838</td><td>5.593722e-02</td><td>8.390583e-02</td><td>B_immature           </td><td>1</td><td>-1</td></tr>\n",
       "\t<tr><th scope=row>B_naive</th><td>-0.1142130</td><td>19.19977</td><td> 1.994105</td><td>1.604303e-01</td><td>2.062676e-01</td><td>B_naive              </td><td>0</td><td> 0</td></tr>\n",
       "\t<tr><th scope=row>B_non-switched_memory</th><td>-0.2718400</td><td>15.41235</td><td> 1.361181</td><td>2.455836e-01</td><td>2.762816e-01</td><td>B_non-switched_memory</td><td>0</td><td> 0</td></tr>\n",
       "\t<tr><th scope=row>B_switched_memory</th><td>-0.3683969</td><td>16.68778</td><td> 3.934757</td><td>4.951903e-02</td><td>8.390583e-02</td><td>B_switched_memory    </td><td>1</td><td>-1</td></tr>\n",
       "\t<tr><th scope=row>Plasma_cell_IgA</th><td> 0.5650620</td><td>15.38621</td><td> 3.724531</td><td>5.591471e-02</td><td>8.390583e-02</td><td>Plasma_cell_IgA      </td><td>1</td><td> 1</td></tr>\n",
       "\t<tr><th scope=row>Plasma_cell_IgG</th><td> 1.4361268</td><td>15.44561</td><td>22.229008</td><td>6.427078e-06</td><td>2.892185e-05</td><td>Plasma_cell_IgG      </td><td>1</td><td> 1</td></tr>\n",
       "\t<tr><th scope=row>Plasma_cell_IgM</th><td> 1.6291556</td><td>13.66318</td><td>15.593263</td><td>1.311839e-04</td><td>3.935517e-04</td><td>Plasma_cell_IgM      </td><td>1</td><td> 1</td></tr>\n",
       "\t<tr><th scope=row>Plasmablast</th><td> 2.2128204</td><td>15.54715</td><td>39.498719</td><td>5.153872e-09</td><td>4.638484e-08</td><td>Plasmablast          </td><td>1</td><td> 1</td></tr>\n",
       "</tbody>\n",
       "</table>\n"
      ],
      "text/latex": [
       "A data.frame: 9 × 8\n",
       "\\begin{tabular}{r|llllllll}\n",
       "  & logFC & logCPM & F & PValue & FDR & CellType & Sig & Diff\\\\\n",
       "  & <dbl> & <dbl> & <dbl> & <dbl> & <dbl> & <chr> & <dbl> & <dbl>\\\\\n",
       "\\hline\n",
       "\tB\\_exhausted &  0.2681812 & 15.44288 &  0.930243 & 3.366870e-01 & 3.366870e-01 & B\\_exhausted           & 0 &  0\\\\\n",
       "\tB\\_immature & -0.4307860 & 16.33239 &  3.723838 & 5.593722e-02 & 8.390583e-02 & B\\_immature            & 1 & -1\\\\\n",
       "\tB\\_naive & -0.1142130 & 19.19977 &  1.994105 & 1.604303e-01 & 2.062676e-01 & B\\_naive               & 0 &  0\\\\\n",
       "\tB\\_non-switched\\_memory & -0.2718400 & 15.41235 &  1.361181 & 2.455836e-01 & 2.762816e-01 & B\\_non-switched\\_memory & 0 &  0\\\\\n",
       "\tB\\_switched\\_memory & -0.3683969 & 16.68778 &  3.934757 & 4.951903e-02 & 8.390583e-02 & B\\_switched\\_memory     & 1 & -1\\\\\n",
       "\tPlasma\\_cell\\_IgA &  0.5650620 & 15.38621 &  3.724531 & 5.591471e-02 & 8.390583e-02 & Plasma\\_cell\\_IgA       & 1 &  1\\\\\n",
       "\tPlasma\\_cell\\_IgG &  1.4361268 & 15.44561 & 22.229008 & 6.427078e-06 & 2.892185e-05 & Plasma\\_cell\\_IgG       & 1 &  1\\\\\n",
       "\tPlasma\\_cell\\_IgM &  1.6291556 & 13.66318 & 15.593263 & 1.311839e-04 & 3.935517e-04 & Plasma\\_cell\\_IgM       & 1 &  1\\\\\n",
       "\tPlasmablast &  2.2128204 & 15.54715 & 39.498719 & 5.153872e-09 & 4.638484e-08 & Plasmablast           & 1 &  1\\\\\n",
       "\\end{tabular}\n"
      ],
      "text/markdown": [
       "\n",
       "A data.frame: 9 × 8\n",
       "\n",
       "| <!--/--> | logFC &lt;dbl&gt; | logCPM &lt;dbl&gt; | F &lt;dbl&gt; | PValue &lt;dbl&gt; | FDR &lt;dbl&gt; | CellType &lt;chr&gt; | Sig &lt;dbl&gt; | Diff &lt;dbl&gt; |\n",
       "|---|---|---|---|---|---|---|---|---|\n",
       "| B_exhausted |  0.2681812 | 15.44288 |  0.930243 | 3.366870e-01 | 3.366870e-01 | B_exhausted           | 0 |  0 |\n",
       "| B_immature | -0.4307860 | 16.33239 |  3.723838 | 5.593722e-02 | 8.390583e-02 | B_immature            | 1 | -1 |\n",
       "| B_naive | -0.1142130 | 19.19977 |  1.994105 | 1.604303e-01 | 2.062676e-01 | B_naive               | 0 |  0 |\n",
       "| B_non-switched_memory | -0.2718400 | 15.41235 |  1.361181 | 2.455836e-01 | 2.762816e-01 | B_non-switched_memory | 0 |  0 |\n",
       "| B_switched_memory | -0.3683969 | 16.68778 |  3.934757 | 4.951903e-02 | 8.390583e-02 | B_switched_memory     | 1 | -1 |\n",
       "| Plasma_cell_IgA |  0.5650620 | 15.38621 |  3.724531 | 5.591471e-02 | 8.390583e-02 | Plasma_cell_IgA       | 1 |  1 |\n",
       "| Plasma_cell_IgG |  1.4361268 | 15.44561 | 22.229008 | 6.427078e-06 | 2.892185e-05 | Plasma_cell_IgG       | 1 |  1 |\n",
       "| Plasma_cell_IgM |  1.6291556 | 13.66318 | 15.593263 | 1.311839e-04 | 3.935517e-04 | Plasma_cell_IgM       | 1 |  1 |\n",
       "| Plasmablast |  2.2128204 | 15.54715 | 39.498719 | 5.153872e-09 | 4.638484e-08 | Plasmablast           | 1 |  1 |\n",
       "\n"
      ],
      "text/plain": [
       "                      logFC      logCPM   F         PValue       FDR         \n",
       "B_exhausted            0.2681812 15.44288  0.930243 3.366870e-01 3.366870e-01\n",
       "B_immature            -0.4307860 16.33239  3.723838 5.593722e-02 8.390583e-02\n",
       "B_naive               -0.1142130 19.19977  1.994105 1.604303e-01 2.062676e-01\n",
       "B_non-switched_memory -0.2718400 15.41235  1.361181 2.455836e-01 2.762816e-01\n",
       "B_switched_memory     -0.3683969 16.68778  3.934757 4.951903e-02 8.390583e-02\n",
       "Plasma_cell_IgA        0.5650620 15.38621  3.724531 5.591471e-02 8.390583e-02\n",
       "Plasma_cell_IgG        1.4361268 15.44561 22.229008 6.427078e-06 2.892185e-05\n",
       "Plasma_cell_IgM        1.6291556 13.66318 15.593263 1.311839e-04 3.935517e-04\n",
       "Plasmablast            2.2128204 15.54715 39.498719 5.153872e-09 4.638484e-08\n",
       "                      CellType              Sig Diff\n",
       "B_exhausted           B_exhausted           0    0  \n",
       "B_immature            B_immature            1   -1  \n",
       "B_naive               B_naive               0    0  \n",
       "B_non-switched_memory B_non-switched_memory 0    0  \n",
       "B_switched_memory     B_switched_memory     1   -1  \n",
       "Plasma_cell_IgA       Plasma_cell_IgA       1    1  \n",
       "Plasma_cell_IgG       Plasma_cell_IgG       1    1  \n",
       "Plasma_cell_IgM       Plasma_cell_IgM       1    1  \n",
       "Plasmablast           Plasmablast           1    1  "
      ]
     },
     "metadata": {},
     "output_type": "display_data"
    }
   ],
   "source": [
    "# linear changes\n",
    "bcell.res <- as.data.frame(topTags(glmQLFTest(bcell.linear.fit, coef=4), sort.by='none', n=Inf))\n",
    "bcell.res$CellType <- rownames(bcell.res)\n",
    "bcell.res$Sig <- as.numeric(bcell.res$FDR < 0.1)\n",
    "bcell.res$Diff <- sign(bcell.res$logFC)\n",
    "bcell.res$Diff[bcell.res$FDR > 0.1] <- 0\n",
    "bcell.res"
   ]
  },
  {
   "cell_type": "code",
   "execution_count": 5,
   "metadata": {},
   "outputs": [
    {
     "data": {
      "text/html": [
       "<table>\n",
       "<caption>A data.frame: 9 × 8</caption>\n",
       "<thead>\n",
       "\t<tr><th></th><th scope=col>logFC</th><th scope=col>logCPM</th><th scope=col>F</th><th scope=col>PValue</th><th scope=col>FDR</th><th scope=col>CellType</th><th scope=col>Sig</th><th scope=col>Diff</th></tr>\n",
       "\t<tr><th></th><th scope=col>&lt;dbl&gt;</th><th scope=col>&lt;dbl&gt;</th><th scope=col>&lt;dbl&gt;</th><th scope=col>&lt;dbl&gt;</th><th scope=col>&lt;dbl&gt;</th><th scope=col>&lt;chr&gt;</th><th scope=col>&lt;dbl&gt;</th><th scope=col>&lt;dbl&gt;</th></tr>\n",
       "</thead>\n",
       "<tbody>\n",
       "\t<tr><th scope=row>B_exhausted</th><td>-0.07970675</td><td>15.44288</td><td> 0.1089413</td><td>0.7419126350</td><td>0.7419126350</td><td>B_exhausted          </td><td>0</td><td> 0</td></tr>\n",
       "\t<tr><th scope=row>B_immature</th><td> 0.29764953</td><td>16.33239</td><td> 2.5311844</td><td>0.1141762248</td><td>0.2055172047</td><td>B_immature           </td><td>0</td><td> 0</td></tr>\n",
       "\t<tr><th scope=row>B_naive</th><td> 0.09671751</td><td>19.19977</td><td> 1.9598548</td><td>0.1640391286</td><td>0.2390473922</td><td>B_naive              </td><td>0</td><td> 0</td></tr>\n",
       "\t<tr><th scope=row>B_non-switched_memory</th><td> 0.26123292</td><td>15.41235</td><td> 1.7692781</td><td>0.1859257495</td><td>0.2390473922</td><td>B_non-switched_memory</td><td>0</td><td> 0</td></tr>\n",
       "\t<tr><th scope=row>B_switched_memory</th><td> 0.18545452</td><td>16.68778</td><td> 1.3542964</td><td>0.2467746542</td><td>0.2776214859</td><td>B_switched_memory    </td><td>0</td><td> 0</td></tr>\n",
       "\t<tr><th scope=row>Plasma_cell_IgA</th><td>-0.69666864</td><td>15.38621</td><td> 7.0716588</td><td>0.0088706878</td><td>0.0199590476</td><td>Plasma_cell_IgA      </td><td>1</td><td>-1</td></tr>\n",
       "\t<tr><th scope=row>Plasma_cell_IgG</th><td>-1.06585835</td><td>15.44561</td><td>15.2991055</td><td>0.0001506300</td><td>0.0005438326</td><td>Plasma_cell_IgG      </td><td>1</td><td>-1</td></tr>\n",
       "\t<tr><th scope=row>Plasma_cell_IgM</th><td>-1.32080518</td><td>13.66318</td><td>15.0494302</td><td>0.0001694376</td><td>0.0005438326</td><td>Plasma_cell_IgM      </td><td>1</td><td>-1</td></tr>\n",
       "\t<tr><th scope=row>Plasmablast</th><td>-1.21907633</td><td>15.54715</td><td>14.9063967</td><td>0.0001812775</td><td>0.0005438326</td><td>Plasmablast          </td><td>1</td><td>-1</td></tr>\n",
       "</tbody>\n",
       "</table>\n"
      ],
      "text/latex": [
       "A data.frame: 9 × 8\n",
       "\\begin{tabular}{r|llllllll}\n",
       "  & logFC & logCPM & F & PValue & FDR & CellType & Sig & Diff\\\\\n",
       "  & <dbl> & <dbl> & <dbl> & <dbl> & <dbl> & <chr> & <dbl> & <dbl>\\\\\n",
       "\\hline\n",
       "\tB\\_exhausted & -0.07970675 & 15.44288 &  0.1089413 & 0.7419126350 & 0.7419126350 & B\\_exhausted           & 0 &  0\\\\\n",
       "\tB\\_immature &  0.29764953 & 16.33239 &  2.5311844 & 0.1141762248 & 0.2055172047 & B\\_immature            & 0 &  0\\\\\n",
       "\tB\\_naive &  0.09671751 & 19.19977 &  1.9598548 & 0.1640391286 & 0.2390473922 & B\\_naive               & 0 &  0\\\\\n",
       "\tB\\_non-switched\\_memory &  0.26123292 & 15.41235 &  1.7692781 & 0.1859257495 & 0.2390473922 & B\\_non-switched\\_memory & 0 &  0\\\\\n",
       "\tB\\_switched\\_memory &  0.18545452 & 16.68778 &  1.3542964 & 0.2467746542 & 0.2776214859 & B\\_switched\\_memory     & 0 &  0\\\\\n",
       "\tPlasma\\_cell\\_IgA & -0.69666864 & 15.38621 &  7.0716588 & 0.0088706878 & 0.0199590476 & Plasma\\_cell\\_IgA       & 1 & -1\\\\\n",
       "\tPlasma\\_cell\\_IgG & -1.06585835 & 15.44561 & 15.2991055 & 0.0001506300 & 0.0005438326 & Plasma\\_cell\\_IgG       & 1 & -1\\\\\n",
       "\tPlasma\\_cell\\_IgM & -1.32080518 & 13.66318 & 15.0494302 & 0.0001694376 & 0.0005438326 & Plasma\\_cell\\_IgM       & 1 & -1\\\\\n",
       "\tPlasmablast & -1.21907633 & 15.54715 & 14.9063967 & 0.0001812775 & 0.0005438326 & Plasmablast           & 1 & -1\\\\\n",
       "\\end{tabular}\n"
      ],
      "text/markdown": [
       "\n",
       "A data.frame: 9 × 8\n",
       "\n",
       "| <!--/--> | logFC &lt;dbl&gt; | logCPM &lt;dbl&gt; | F &lt;dbl&gt; | PValue &lt;dbl&gt; | FDR &lt;dbl&gt; | CellType &lt;chr&gt; | Sig &lt;dbl&gt; | Diff &lt;dbl&gt; |\n",
       "|---|---|---|---|---|---|---|---|---|\n",
       "| B_exhausted | -0.07970675 | 15.44288 |  0.1089413 | 0.7419126350 | 0.7419126350 | B_exhausted           | 0 |  0 |\n",
       "| B_immature |  0.29764953 | 16.33239 |  2.5311844 | 0.1141762248 | 0.2055172047 | B_immature            | 0 |  0 |\n",
       "| B_naive |  0.09671751 | 19.19977 |  1.9598548 | 0.1640391286 | 0.2390473922 | B_naive               | 0 |  0 |\n",
       "| B_non-switched_memory |  0.26123292 | 15.41235 |  1.7692781 | 0.1859257495 | 0.2390473922 | B_non-switched_memory | 0 |  0 |\n",
       "| B_switched_memory |  0.18545452 | 16.68778 |  1.3542964 | 0.2467746542 | 0.2776214859 | B_switched_memory     | 0 |  0 |\n",
       "| Plasma_cell_IgA | -0.69666864 | 15.38621 |  7.0716588 | 0.0088706878 | 0.0199590476 | Plasma_cell_IgA       | 1 | -1 |\n",
       "| Plasma_cell_IgG | -1.06585835 | 15.44561 | 15.2991055 | 0.0001506300 | 0.0005438326 | Plasma_cell_IgG       | 1 | -1 |\n",
       "| Plasma_cell_IgM | -1.32080518 | 13.66318 | 15.0494302 | 0.0001694376 | 0.0005438326 | Plasma_cell_IgM       | 1 | -1 |\n",
       "| Plasmablast | -1.21907633 | 15.54715 | 14.9063967 | 0.0001812775 | 0.0005438326 | Plasmablast           | 1 | -1 |\n",
       "\n"
      ],
      "text/plain": [
       "                      logFC       logCPM   F          PValue       FDR         \n",
       "B_exhausted           -0.07970675 15.44288  0.1089413 0.7419126350 0.7419126350\n",
       "B_immature             0.29764953 16.33239  2.5311844 0.1141762248 0.2055172047\n",
       "B_naive                0.09671751 19.19977  1.9598548 0.1640391286 0.2390473922\n",
       "B_non-switched_memory  0.26123292 15.41235  1.7692781 0.1859257495 0.2390473922\n",
       "B_switched_memory      0.18545452 16.68778  1.3542964 0.2467746542 0.2776214859\n",
       "Plasma_cell_IgA       -0.69666864 15.38621  7.0716588 0.0088706878 0.0199590476\n",
       "Plasma_cell_IgG       -1.06585835 15.44561 15.2991055 0.0001506300 0.0005438326\n",
       "Plasma_cell_IgM       -1.32080518 13.66318 15.0494302 0.0001694376 0.0005438326\n",
       "Plasmablast           -1.21907633 15.54715 14.9063967 0.0001812775 0.0005438326\n",
       "                      CellType              Sig Diff\n",
       "B_exhausted           B_exhausted           0    0  \n",
       "B_immature            B_immature            0    0  \n",
       "B_naive               B_naive               0    0  \n",
       "B_non-switched_memory B_non-switched_memory 0    0  \n",
       "B_switched_memory     B_switched_memory     0    0  \n",
       "Plasma_cell_IgA       Plasma_cell_IgA       1   -1  \n",
       "Plasma_cell_IgG       Plasma_cell_IgG       1   -1  \n",
       "Plasma_cell_IgM       Plasma_cell_IgM       1   -1  \n",
       "Plasmablast           Plasmablast           1   -1  "
      ]
     },
     "metadata": {},
     "output_type": "display_data"
    }
   ],
   "source": [
    "# Quadratic changes.\n",
    "bcell.quad.res <- as.data.frame(topTags(glmQLFTest(bcell.linear.fit, coef=5), sort.by='none', n=Inf))\n",
    "bcell.quad.res$CellType <- rownames(bcell.quad.res)\n",
    "bcell.quad.res$Sig <- as.numeric(bcell.quad.res$FDR < 0.1)\n",
    "bcell.quad.res$Diff <- sign(bcell.quad.res$logFC)\n",
    "bcell.quad.res$Diff[bcell.quad.res$FDR > 0.1] <- 0\n",
    "bcell.quad.res"
   ]
  },
  {
   "cell_type": "code",
   "execution_count": null,
   "metadata": {},
   "outputs": [],
   "source": []
  }
 ],
 "metadata": {
  "kernelspec": {
   "display_name": "R",
   "language": "R",
   "name": "ir"
  },
  "language_info": {
   "codemirror_mode": "r",
   "file_extension": ".r",
   "mimetype": "text/x-r-source",
   "name": "R",
   "pygments_lexer": "r",
   "version": "3.6.1"
  }
 },
 "nbformat": 4,
 "nbformat_minor": 4
}
