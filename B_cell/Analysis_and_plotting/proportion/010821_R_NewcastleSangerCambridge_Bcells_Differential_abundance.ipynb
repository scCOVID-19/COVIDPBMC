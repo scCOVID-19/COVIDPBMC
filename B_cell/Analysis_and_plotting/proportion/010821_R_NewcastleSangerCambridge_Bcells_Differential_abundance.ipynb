{
 "cells": [
  {
   "cell_type": "code",
   "execution_count": 1,
   "metadata": {},
   "outputs": [
    {
     "name": "stderr",
     "output_type": "stream",
     "text": [
      "\n",
      "Attaching package: ‘dplyr’\n",
      "\n",
      "\n",
      "The following objects are masked from ‘package:stats’:\n",
      "\n",
      "    filter, lag\n",
      "\n",
      "\n",
      "The following objects are masked from ‘package:base’:\n",
      "\n",
      "    intersect, setdiff, setequal, union\n",
      "\n",
      "\n"
     ]
    }
   ],
   "source": [
    "# set up the model\n",
    "setwd('/lustre/scratch117/cellgen/team297/kt16/newcastle_covid')\n",
    "library(dplyr)\n",
    "\n",
    "bcell.df <- read.csv(\"h5ad/combined_dec_bcells_obs.csv\")\n",
    "\n",
    "covid.meta <- bcell.df[,c('sample_id', 'patient_id', 'Status_on_day_collection_summary', 'Age', 'Sex', 'Collection_Day')] %>% distinct()\n",
    "rownames(covid.meta) <- covid.meta$sample_id\n",
    "\n",
    "bcell.meta <- covid.meta[!covid.meta$Status_on_day_collection_summary %in% c(\"Non_covid\", \"LPS\", 'Healthy'),]\n",
    "bcell.meta$OrderedSeverity <- ordered(bcell.meta$Status_on_day_collection_summary, levels=c(\"Asymptomatic\", \"Mild\", \"Moderate\", \"Severe\", \"Critical\"))\n",
    "\n",
    "bcell.model <- model.matrix(~ Sex + Age + OrderedSeverity, data=bcell.meta[bcell.meta$Collection_Day %in% c(\"D0\"), ])"
   ]
  },
  {
   "cell_type": "code",
   "execution_count": 2,
   "metadata": {},
   "outputs": [
    {
     "name": "stderr",
     "output_type": "stream",
     "text": [
      "Loading required package: limma\n",
      "\n"
     ]
    }
   ],
   "source": [
    "# count cells\n",
    "cell.freq.tab <- t(table(bcell.df$sample_id[bcell.df$Collection_Day %in% c(\"D0\") &\n",
    "                                                        !bcell.df$Status_on_day_collection_summary %in% c(\"LPS\", \"Non_covid\", 'Healthy')],\n",
    "                         bcell.df$celltype_B[bcell.df$Collection_Day %in% c(\"D0\") &\n",
    "                                                        !bcell.df$Status_on_day_collection_summary %in% c(\"LPS\", \"Non_covid\", 'Healthy')]))\n",
    "cell.freq.tab <- cell.freq.tab[,colSums(cell.freq.tab) != 0]\n",
    "bcell.model <- bcell.model[colnames(cell.freq.tab), ]\n",
    "\n",
    "n.cell.vecc <- table(bcell.df$sample_id)\n",
    "\n",
    "library(edgeR)\n",
    "bcell.dge <- DGEList(cell.freq.tab, lib.size=log(n.cell.vecc[colnames(cell.freq.tab)]))"
   ]
  },
  {
   "cell_type": "code",
   "execution_count": 3,
   "metadata": {},
   "outputs": [],
   "source": [
    "#estimate dispersions and fit model\n",
    "bcell.dge <- estimateDisp(bcell.dge, design=bcell.model)\n",
    "bcell.linear.fit <- glmQLFit(bcell.dge, bcell.model, robust=TRUE)"
   ]
  },
  {
   "cell_type": "code",
   "execution_count": 4,
   "metadata": {},
   "outputs": [
    {
     "data": {
      "text/html": [
       "<table>\n",
       "<caption>A data.frame: 9 × 8</caption>\n",
       "<thead>\n",
       "\t<tr><th></th><th scope=col>logFC</th><th scope=col>logCPM</th><th scope=col>F</th><th scope=col>PValue</th><th scope=col>FDR</th><th scope=col>CellType</th><th scope=col>Sig</th><th scope=col>Diff</th></tr>\n",
       "\t<tr><th></th><th scope=col>&lt;dbl&gt;</th><th scope=col>&lt;dbl&gt;</th><th scope=col>&lt;dbl&gt;</th><th scope=col>&lt;dbl&gt;</th><th scope=col>&lt;dbl&gt;</th><th scope=col>&lt;chr&gt;</th><th scope=col>&lt;dbl&gt;</th><th scope=col>&lt;dbl&gt;</th></tr>\n",
       "</thead>\n",
       "<tbody>\n",
       "\t<tr><th scope=row>B_exhausted</th><td> 0.150996407</td><td>15.53285</td><td>2.235211e-01</td><td>0.637485703</td><td>0.81962448</td><td>B_exhausted          </td><td>0</td><td>0</td></tr>\n",
       "\t<tr><th scope=row>B_immature</th><td>-0.137819622</td><td>16.20341</td><td>2.676712e-01</td><td>0.606135453</td><td>0.81962448</td><td>B_immature           </td><td>0</td><td>0</td></tr>\n",
       "\t<tr><th scope=row>B_naive</th><td>-0.075732684</td><td>19.16972</td><td>5.720534e-01</td><td>0.451369539</td><td>0.81246517</td><td>B_naive              </td><td>0</td><td>0</td></tr>\n",
       "\t<tr><th scope=row>B_non-switched_memory</th><td> 0.001598324</td><td>15.32163</td><td>3.439785e-05</td><td>0.995333113</td><td>0.99533311</td><td>B_non-switched_memory</td><td>0</td><td>0</td></tr>\n",
       "\t<tr><th scope=row>B_switched_memory</th><td>-0.201763822</td><td>16.58476</td><td>8.329594e-01</td><td>0.363795033</td><td>0.81246517</td><td>B_switched_memory    </td><td>0</td><td>0</td></tr>\n",
       "\t<tr><th scope=row>Plasma_cell_IgA</th><td> 0.031776845</td><td>15.53893</td><td>8.833205e-03</td><td>0.925324612</td><td>0.99533311</td><td>Plasma_cell_IgA      </td><td>0</td><td>0</td></tr>\n",
       "\t<tr><th scope=row>Plasma_cell_IgG</th><td> 0.702165753</td><td>15.63913</td><td>4.005067e+00</td><td>0.048299307</td><td>0.14489792</td><td>Plasma_cell_IgG      </td><td>0</td><td>0</td></tr>\n",
       "\t<tr><th scope=row>Plasma_cell_IgM</th><td> 1.152909165</td><td>13.77362</td><td>5.523214e+00</td><td>0.020895361</td><td>0.09402912</td><td>Plasma_cell_IgM      </td><td>1</td><td>1</td></tr>\n",
       "\t<tr><th scope=row>Plasmablast</th><td> 1.145440423</td><td>15.78431</td><td>7.525513e+00</td><td>0.007307719</td><td>0.06576947</td><td>Plasmablast          </td><td>1</td><td>1</td></tr>\n",
       "</tbody>\n",
       "</table>\n"
      ],
      "text/latex": [
       "A data.frame: 9 × 8\n",
       "\\begin{tabular}{r|llllllll}\n",
       "  & logFC & logCPM & F & PValue & FDR & CellType & Sig & Diff\\\\\n",
       "  & <dbl> & <dbl> & <dbl> & <dbl> & <dbl> & <chr> & <dbl> & <dbl>\\\\\n",
       "\\hline\n",
       "\tB\\_exhausted &  0.150996407 & 15.53285 & 2.235211e-01 & 0.637485703 & 0.81962448 & B\\_exhausted           & 0 & 0\\\\\n",
       "\tB\\_immature & -0.137819622 & 16.20341 & 2.676712e-01 & 0.606135453 & 0.81962448 & B\\_immature            & 0 & 0\\\\\n",
       "\tB\\_naive & -0.075732684 & 19.16972 & 5.720534e-01 & 0.451369539 & 0.81246517 & B\\_naive               & 0 & 0\\\\\n",
       "\tB\\_non-switched\\_memory &  0.001598324 & 15.32163 & 3.439785e-05 & 0.995333113 & 0.99533311 & B\\_non-switched\\_memory & 0 & 0\\\\\n",
       "\tB\\_switched\\_memory & -0.201763822 & 16.58476 & 8.329594e-01 & 0.363795033 & 0.81246517 & B\\_switched\\_memory     & 0 & 0\\\\\n",
       "\tPlasma\\_cell\\_IgA &  0.031776845 & 15.53893 & 8.833205e-03 & 0.925324612 & 0.99533311 & Plasma\\_cell\\_IgA       & 0 & 0\\\\\n",
       "\tPlasma\\_cell\\_IgG &  0.702165753 & 15.63913 & 4.005067e+00 & 0.048299307 & 0.14489792 & Plasma\\_cell\\_IgG       & 0 & 0\\\\\n",
       "\tPlasma\\_cell\\_IgM &  1.152909165 & 13.77362 & 5.523214e+00 & 0.020895361 & 0.09402912 & Plasma\\_cell\\_IgM       & 1 & 1\\\\\n",
       "\tPlasmablast &  1.145440423 & 15.78431 & 7.525513e+00 & 0.007307719 & 0.06576947 & Plasmablast           & 1 & 1\\\\\n",
       "\\end{tabular}\n"
      ],
      "text/markdown": [
       "\n",
       "A data.frame: 9 × 8\n",
       "\n",
       "| <!--/--> | logFC &lt;dbl&gt; | logCPM &lt;dbl&gt; | F &lt;dbl&gt; | PValue &lt;dbl&gt; | FDR &lt;dbl&gt; | CellType &lt;chr&gt; | Sig &lt;dbl&gt; | Diff &lt;dbl&gt; |\n",
       "|---|---|---|---|---|---|---|---|---|\n",
       "| B_exhausted |  0.150996407 | 15.53285 | 2.235211e-01 | 0.637485703 | 0.81962448 | B_exhausted           | 0 | 0 |\n",
       "| B_immature | -0.137819622 | 16.20341 | 2.676712e-01 | 0.606135453 | 0.81962448 | B_immature            | 0 | 0 |\n",
       "| B_naive | -0.075732684 | 19.16972 | 5.720534e-01 | 0.451369539 | 0.81246517 | B_naive               | 0 | 0 |\n",
       "| B_non-switched_memory |  0.001598324 | 15.32163 | 3.439785e-05 | 0.995333113 | 0.99533311 | B_non-switched_memory | 0 | 0 |\n",
       "| B_switched_memory | -0.201763822 | 16.58476 | 8.329594e-01 | 0.363795033 | 0.81246517 | B_switched_memory     | 0 | 0 |\n",
       "| Plasma_cell_IgA |  0.031776845 | 15.53893 | 8.833205e-03 | 0.925324612 | 0.99533311 | Plasma_cell_IgA       | 0 | 0 |\n",
       "| Plasma_cell_IgG |  0.702165753 | 15.63913 | 4.005067e+00 | 0.048299307 | 0.14489792 | Plasma_cell_IgG       | 0 | 0 |\n",
       "| Plasma_cell_IgM |  1.152909165 | 13.77362 | 5.523214e+00 | 0.020895361 | 0.09402912 | Plasma_cell_IgM       | 1 | 1 |\n",
       "| Plasmablast |  1.145440423 | 15.78431 | 7.525513e+00 | 0.007307719 | 0.06576947 | Plasmablast           | 1 | 1 |\n",
       "\n"
      ],
      "text/plain": [
       "                      logFC        logCPM   F            PValue      FDR       \n",
       "B_exhausted            0.150996407 15.53285 2.235211e-01 0.637485703 0.81962448\n",
       "B_immature            -0.137819622 16.20341 2.676712e-01 0.606135453 0.81962448\n",
       "B_naive               -0.075732684 19.16972 5.720534e-01 0.451369539 0.81246517\n",
       "B_non-switched_memory  0.001598324 15.32163 3.439785e-05 0.995333113 0.99533311\n",
       "B_switched_memory     -0.201763822 16.58476 8.329594e-01 0.363795033 0.81246517\n",
       "Plasma_cell_IgA        0.031776845 15.53893 8.833205e-03 0.925324612 0.99533311\n",
       "Plasma_cell_IgG        0.702165753 15.63913 4.005067e+00 0.048299307 0.14489792\n",
       "Plasma_cell_IgM        1.152909165 13.77362 5.523214e+00 0.020895361 0.09402912\n",
       "Plasmablast            1.145440423 15.78431 7.525513e+00 0.007307719 0.06576947\n",
       "                      CellType              Sig Diff\n",
       "B_exhausted           B_exhausted           0   0   \n",
       "B_immature            B_immature            0   0   \n",
       "B_naive               B_naive               0   0   \n",
       "B_non-switched_memory B_non-switched_memory 0   0   \n",
       "B_switched_memory     B_switched_memory     0   0   \n",
       "Plasma_cell_IgA       Plasma_cell_IgA       0   0   \n",
       "Plasma_cell_IgG       Plasma_cell_IgG       0   0   \n",
       "Plasma_cell_IgM       Plasma_cell_IgM       1   1   \n",
       "Plasmablast           Plasmablast           1   1   "
      ]
     },
     "metadata": {},
     "output_type": "display_data"
    }
   ],
   "source": [
    "# linear changes\n",
    "bcell.res <- as.data.frame(topTags(glmQLFTest(bcell.linear.fit, coef=4), sort.by='none', n=Inf))\n",
    "bcell.res$CellType <- rownames(bcell.res)\n",
    "bcell.res$Sig <- as.numeric(bcell.res$FDR < 0.1 & bcell.res$PValue < 0.05)\n",
    "bcell.res$Diff <- sign(bcell.res$logFC)\n",
    "bcell.res$Diff[bcell.res$FDR >= 0.1 | bcell.res$PValue >= 0.05] <- 0\n",
    "bcell.res"
   ]
  },
  {
   "cell_type": "code",
   "execution_count": 5,
   "metadata": {},
   "outputs": [
    {
     "data": {
      "text/html": [
       "<table>\n",
       "<caption>A data.frame: 9 × 8</caption>\n",
       "<thead>\n",
       "\t<tr><th></th><th scope=col>logFC</th><th scope=col>logCPM</th><th scope=col>F</th><th scope=col>PValue</th><th scope=col>FDR</th><th scope=col>CellType</th><th scope=col>Sig</th><th scope=col>Diff</th></tr>\n",
       "\t<tr><th></th><th scope=col>&lt;dbl&gt;</th><th scope=col>&lt;dbl&gt;</th><th scope=col>&lt;dbl&gt;</th><th scope=col>&lt;dbl&gt;</th><th scope=col>&lt;dbl&gt;</th><th scope=col>&lt;chr&gt;</th><th scope=col>&lt;dbl&gt;</th><th scope=col>&lt;dbl&gt;</th></tr>\n",
       "</thead>\n",
       "<tbody>\n",
       "\t<tr><th scope=row>B_exhausted</th><td>-0.045572430</td><td>15.53285</td><td> 0.025176007</td><td>8.742758e-01</td><td>9.802455e-01</td><td>B_exhausted          </td><td>0</td><td> 0</td></tr>\n",
       "\t<tr><th scope=row>B_immature</th><td> 0.147918339</td><td>16.20341</td><td> 0.394644308</td><td>5.314190e-01</td><td>6.832530e-01</td><td>B_immature           </td><td>0</td><td> 0</td></tr>\n",
       "\t<tr><th scope=row>B_naive</th><td> 0.147298655</td><td>19.16972</td><td> 2.743819985</td><td>1.010257e-01</td><td>2.273078e-01</td><td>B_naive              </td><td>0</td><td> 0</td></tr>\n",
       "\t<tr><th scope=row>B_non-switched_memory</th><td>-0.005958338</td><td>15.32163</td><td> 0.000616447</td><td>9.802455e-01</td><td>9.802455e-01</td><td>B_non-switched_memory</td><td>0</td><td> 0</td></tr>\n",
       "\t<tr><th scope=row>B_switched_memory</th><td> 0.154785990</td><td>16.58476</td><td> 0.612720312</td><td>4.357684e-01</td><td>6.536526e-01</td><td>B_switched_memory    </td><td>0</td><td> 0</td></tr>\n",
       "\t<tr><th scope=row>Plasma_cell_IgA</th><td>-0.402075312</td><td>15.53893</td><td> 1.663282190</td><td>2.003818e-01</td><td>3.606872e-01</td><td>Plasma_cell_IgA      </td><td>0</td><td> 0</td></tr>\n",
       "\t<tr><th scope=row>Plasma_cell_IgG</th><td>-1.015626469</td><td>15.63913</td><td> 9.926193106</td><td>2.196571e-03</td><td>9.884569e-03</td><td>Plasma_cell_IgG      </td><td>1</td><td>-1</td></tr>\n",
       "\t<tr><th scope=row>Plasma_cell_IgM</th><td>-2.071181486</td><td>13.77362</td><td>24.084565899</td><td>3.952369e-06</td><td>3.557132e-05</td><td>Plasma_cell_IgM      </td><td>1</td><td>-1</td></tr>\n",
       "\t<tr><th scope=row>Plasmablast</th><td>-0.966937241</td><td>15.78431</td><td> 6.464662574</td><td>1.266838e-02</td><td>3.800513e-02</td><td>Plasmablast          </td><td>1</td><td>-1</td></tr>\n",
       "</tbody>\n",
       "</table>\n"
      ],
      "text/latex": [
       "A data.frame: 9 × 8\n",
       "\\begin{tabular}{r|llllllll}\n",
       "  & logFC & logCPM & F & PValue & FDR & CellType & Sig & Diff\\\\\n",
       "  & <dbl> & <dbl> & <dbl> & <dbl> & <dbl> & <chr> & <dbl> & <dbl>\\\\\n",
       "\\hline\n",
       "\tB\\_exhausted & -0.045572430 & 15.53285 &  0.025176007 & 8.742758e-01 & 9.802455e-01 & B\\_exhausted           & 0 &  0\\\\\n",
       "\tB\\_immature &  0.147918339 & 16.20341 &  0.394644308 & 5.314190e-01 & 6.832530e-01 & B\\_immature            & 0 &  0\\\\\n",
       "\tB\\_naive &  0.147298655 & 19.16972 &  2.743819985 & 1.010257e-01 & 2.273078e-01 & B\\_naive               & 0 &  0\\\\\n",
       "\tB\\_non-switched\\_memory & -0.005958338 & 15.32163 &  0.000616447 & 9.802455e-01 & 9.802455e-01 & B\\_non-switched\\_memory & 0 &  0\\\\\n",
       "\tB\\_switched\\_memory &  0.154785990 & 16.58476 &  0.612720312 & 4.357684e-01 & 6.536526e-01 & B\\_switched\\_memory     & 0 &  0\\\\\n",
       "\tPlasma\\_cell\\_IgA & -0.402075312 & 15.53893 &  1.663282190 & 2.003818e-01 & 3.606872e-01 & Plasma\\_cell\\_IgA       & 0 &  0\\\\\n",
       "\tPlasma\\_cell\\_IgG & -1.015626469 & 15.63913 &  9.926193106 & 2.196571e-03 & 9.884569e-03 & Plasma\\_cell\\_IgG       & 1 & -1\\\\\n",
       "\tPlasma\\_cell\\_IgM & -2.071181486 & 13.77362 & 24.084565899 & 3.952369e-06 & 3.557132e-05 & Plasma\\_cell\\_IgM       & 1 & -1\\\\\n",
       "\tPlasmablast & -0.966937241 & 15.78431 &  6.464662574 & 1.266838e-02 & 3.800513e-02 & Plasmablast           & 1 & -1\\\\\n",
       "\\end{tabular}\n"
      ],
      "text/markdown": [
       "\n",
       "A data.frame: 9 × 8\n",
       "\n",
       "| <!--/--> | logFC &lt;dbl&gt; | logCPM &lt;dbl&gt; | F &lt;dbl&gt; | PValue &lt;dbl&gt; | FDR &lt;dbl&gt; | CellType &lt;chr&gt; | Sig &lt;dbl&gt; | Diff &lt;dbl&gt; |\n",
       "|---|---|---|---|---|---|---|---|---|\n",
       "| B_exhausted | -0.045572430 | 15.53285 |  0.025176007 | 8.742758e-01 | 9.802455e-01 | B_exhausted           | 0 |  0 |\n",
       "| B_immature |  0.147918339 | 16.20341 |  0.394644308 | 5.314190e-01 | 6.832530e-01 | B_immature            | 0 |  0 |\n",
       "| B_naive |  0.147298655 | 19.16972 |  2.743819985 | 1.010257e-01 | 2.273078e-01 | B_naive               | 0 |  0 |\n",
       "| B_non-switched_memory | -0.005958338 | 15.32163 |  0.000616447 | 9.802455e-01 | 9.802455e-01 | B_non-switched_memory | 0 |  0 |\n",
       "| B_switched_memory |  0.154785990 | 16.58476 |  0.612720312 | 4.357684e-01 | 6.536526e-01 | B_switched_memory     | 0 |  0 |\n",
       "| Plasma_cell_IgA | -0.402075312 | 15.53893 |  1.663282190 | 2.003818e-01 | 3.606872e-01 | Plasma_cell_IgA       | 0 |  0 |\n",
       "| Plasma_cell_IgG | -1.015626469 | 15.63913 |  9.926193106 | 2.196571e-03 | 9.884569e-03 | Plasma_cell_IgG       | 1 | -1 |\n",
       "| Plasma_cell_IgM | -2.071181486 | 13.77362 | 24.084565899 | 3.952369e-06 | 3.557132e-05 | Plasma_cell_IgM       | 1 | -1 |\n",
       "| Plasmablast | -0.966937241 | 15.78431 |  6.464662574 | 1.266838e-02 | 3.800513e-02 | Plasmablast           | 1 | -1 |\n",
       "\n"
      ],
      "text/plain": [
       "                      logFC        logCPM   F            PValue      \n",
       "B_exhausted           -0.045572430 15.53285  0.025176007 8.742758e-01\n",
       "B_immature             0.147918339 16.20341  0.394644308 5.314190e-01\n",
       "B_naive                0.147298655 19.16972  2.743819985 1.010257e-01\n",
       "B_non-switched_memory -0.005958338 15.32163  0.000616447 9.802455e-01\n",
       "B_switched_memory      0.154785990 16.58476  0.612720312 4.357684e-01\n",
       "Plasma_cell_IgA       -0.402075312 15.53893  1.663282190 2.003818e-01\n",
       "Plasma_cell_IgG       -1.015626469 15.63913  9.926193106 2.196571e-03\n",
       "Plasma_cell_IgM       -2.071181486 13.77362 24.084565899 3.952369e-06\n",
       "Plasmablast           -0.966937241 15.78431  6.464662574 1.266838e-02\n",
       "                      FDR          CellType              Sig Diff\n",
       "B_exhausted           9.802455e-01 B_exhausted           0    0  \n",
       "B_immature            6.832530e-01 B_immature            0    0  \n",
       "B_naive               2.273078e-01 B_naive               0    0  \n",
       "B_non-switched_memory 9.802455e-01 B_non-switched_memory 0    0  \n",
       "B_switched_memory     6.536526e-01 B_switched_memory     0    0  \n",
       "Plasma_cell_IgA       3.606872e-01 Plasma_cell_IgA       0    0  \n",
       "Plasma_cell_IgG       9.884569e-03 Plasma_cell_IgG       1   -1  \n",
       "Plasma_cell_IgM       3.557132e-05 Plasma_cell_IgM       1   -1  \n",
       "Plasmablast           3.800513e-02 Plasmablast           1   -1  "
      ]
     },
     "metadata": {},
     "output_type": "display_data"
    }
   ],
   "source": [
    "# Quadratic changes.\n",
    "bcell.quad.res <- as.data.frame(topTags(glmQLFTest(bcell.linear.fit, coef=5), sort.by='none', n=Inf))\n",
    "bcell.quad.res$CellType <- rownames(bcell.quad.res)\n",
    "bcell.quad.res$Sig <- as.numeric(bcell.quad.res$FDR < 0.1 & bcell.quad.res$PValue < 0.05)\n",
    "bcell.quad.res$Diff <- sign(bcell.quad.res$logFC)\n",
    "bcell.quad.res$Diff[bcell.quad.res$FDR >= 0.1 | bcell.quad.res$PValue >= 0.05] <- 0\n",
    "bcell.quad.res"
   ]
  },
  {
   "cell_type": "code",
   "execution_count": null,
   "metadata": {},
   "outputs": [],
   "source": []
  }
 ],
 "metadata": {
  "kernelspec": {
   "display_name": "R",
   "language": "R",
   "name": "ir"
  },
  "language_info": {
   "codemirror_mode": "r",
   "file_extension": ".r",
   "mimetype": "text/x-r-source",
   "name": "R",
   "pygments_lexer": "r",
   "version": "3.6.1"
  }
 },
 "nbformat": 4,
 "nbformat_minor": 4
}
