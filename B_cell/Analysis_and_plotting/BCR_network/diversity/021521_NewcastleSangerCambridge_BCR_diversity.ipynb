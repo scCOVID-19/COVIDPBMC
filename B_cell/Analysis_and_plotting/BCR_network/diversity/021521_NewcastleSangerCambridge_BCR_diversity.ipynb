{
 "cells": [
  {
   "cell_type": "code",
   "execution_count": 1,
   "metadata": {
    "scrolled": true
   },
   "outputs": [
    {
     "name": "stdout",
     "output_type": "stream",
     "text": [
      "scanpy==1.6.0 anndata==0.7.4 umap==0.4.6 numpy==1.18.5 scipy==1.4.1 pandas==1.1.3 scikit-learn==0.23.2 statsmodels==0.12.0 python-igraph==0.7.1 leidenalg==0.8.2\n"
     ]
    }
   ],
   "source": [
    "# import the transcriptome data\n",
    "import os\n",
    "import dandelion as ddl\n",
    "import pandas as pd\n",
    "import scanpy as sc\n",
    "sc.logging.print_header()"
   ]
  },
  {
   "cell_type": "code",
   "execution_count": 2,
   "metadata": {},
   "outputs": [
    {
     "name": "stdout",
     "output_type": "stream",
     "text": [
      "dandelion==0.0.27.post2 pandas==1.1.3 numpy==1.18.5 matplotlib==3.3.2 networkx==2.5 scipy==1.4.1 skbio==0.5.6\n"
     ]
    }
   ],
   "source": [
    "ddl.logging.print_header()"
   ]
  },
  {
   "cell_type": "code",
   "execution_count": 3,
   "metadata": {},
   "outputs": [
    {
     "data": {
      "text/plain": [
       "'/lustre/scratch117/cellgen/team297/kt16/newcastle_covid/notebooks'"
      ]
     },
     "execution_count": 3,
     "metadata": {},
     "output_type": "execute_result"
    }
   ],
   "source": [
    "os.getcwd()"
   ]
  },
  {
   "cell_type": "code",
   "execution_count": 4,
   "metadata": {},
   "outputs": [],
   "source": [
    "os.chdir('/lustre/scratch117/cellgen/team297/kt16/newcastle_covid')"
   ]
  },
  {
   "cell_type": "code",
   "execution_count": 6,
   "metadata": {
    "scrolled": false
   },
   "outputs": [
    {
     "name": "stdout",
     "output_type": "stream",
     "text": [
      "CPU times: user 6.17 s, sys: 402 ms, total: 6.57 s\n",
      "Wall time: 6.55 s\n"
     ]
    },
    {
     "data": {
      "text/plain": [
       "AnnData object with n_obs × n_vars = 74437 × 1051\n",
       "    obs: 'Site', 'doublet', 'patient_id', 'sample_id', 'batch', 'Resample', 'Collection_Day', 'Sex', 'Age', 'Swab_result', 'Status', 'Smoker', 'Status_on_day_collection', 'Status_on_day_collection_summary', 'Days_from_onset', 'time_after_LPS', 'Worst_Clinical_Status', 'Outcome', 'leiden', 'consensus', 'initial_clustering', 'study_id', 'initial_clustering_B', 'n_genes_by_counts', 'total_counts', 'total_counts_mt', 'pct_counts_mt', 'leiden_B', 'celltype_B', 'celltype_B_v2', 'Status_on_day_collection_summary_v2', 'filter_rna', 'has_bcr', 'filter_bcr_quality', 'filter_bcr_heavy', 'filter_bcr_light', 'bcr_QC_pass', 'filter_bcr'\n",
       "    var: 'feature_types', 'mt', 'n_cells_by_counts', 'mean_counts', 'pct_dropout_by_counts', 'total_counts', 'highly_variable', 'means', 'dispersions', 'dispersions_norm', 'mean', 'std'\n",
       "    uns: 'Site_colors', 'Status_on_day_collection_summary_colors', 'Status_on_day_collection_summary_v2_colors', 'bcr_QC_pass_colors', 'celltype_B_colors', 'celltype_B_v2_colors', 'consensus_colors', \"dendrogram_['leiden_B']\", 'filter_bcr_colors', 'hvg', 'initial_clustering_colors', 'leiden', 'leiden_B_colors', 'leiden_colors', 'neighbors', 'pca', 'rank_genes_groups', 'umap'\n",
       "    obsm: 'X_pca', 'X_pca_harmony', 'X_umap'\n",
       "    varm: 'PCs'\n",
       "    obsp: 'connectivities', 'distances'"
      ]
     },
     "execution_count": 6,
     "metadata": {},
     "output_type": "execute_result"
    }
   ],
   "source": [
    "# Read in B cell data\n",
    "%time bdata = sc.read_h5ad('h5ad/covid_jan_2021_bcells.h5ad')\n",
    "bdata"
   ]
  },
  {
   "cell_type": "code",
   "execution_count": 8,
   "metadata": {},
   "outputs": [],
   "source": [
    "# subset to each severity  classification\n",
    "from collections import defaultdict\n",
    "adata = defaultdict(dict)\n",
    "vdj = defaultdict(dict)"
   ]
  },
  {
   "cell_type": "code",
   "execution_count": 10,
   "metadata": {},
   "outputs": [
    {
     "name": "stderr",
     "output_type": "stream",
     "text": [
      "/nfs/users/nfs_k/kt16/miniconda2/envs/dandelion/lib/python3.7/site-packages/anndata/_core/anndata.py:1094: FutureWarning: is_categorical is deprecated and will be removed in a future version.  Use is_categorical_dtype instead\n"
     ]
    }
   ],
   "source": [
    "# subset each status and place it in adata\n",
    "for x in ['Healthy', 'Asymptomatic', 'Mild', 'Moderate', 'Severe', 'Critical']:\n",
    "    adata[x] = bdata[bdata.obs['Status_on_day_collection_summary_v2'] == x].copy()\n",
    "adata['Malignant'] = sc.read_h5ad('h5ad/combined_dec_bcell_vdj_malignant.h5ad')"
   ]
  },
  {
   "cell_type": "code",
   "execution_count": 19,
   "metadata": {},
   "outputs": [],
   "source": [
    "vdj_files = {\"Critical\":'dandelion_output/covid_jan_2021_bcells_vdj_Critical.h5',\n",
    "             \"Severe\":'dandelion_output/covid_jan_2021_bcells_vdj_Severe.h5',\n",
    "             \"Moderate\":'dandelion_output/covid_jan_2021_bcells_vdj_Moderate.h5',\n",
    "             \"Mild\":'dandelion_output/covid_jan_2021_bcells_vdj_Mild.h5',\n",
    "             \"Asymptomatic\":'dandelion_output/covid_jan_2021_bcells_vdj_Asymptomatic.h5',\n",
    "             \"Healthy\":'dandelion_output/covid_jan_2021_bcells_vdj_Healthy.h5',\n",
    "             \"Malignant\":'dandelion_output/covid_jan_2021_bcells_malignant.h5'}"
   ]
  },
  {
   "cell_type": "code",
   "execution_count": 20,
   "metadata": {},
   "outputs": [],
   "source": [
    "# also read in the vdj objects\n",
    "for x in ['Healthy', 'Asymptomatic', 'Mild', 'Moderate', 'Severe', 'Critical', 'Malignant']:\n",
    "    vdj[x] = ddl.read_h5(vdj_files[x])"
   ]
  },
  {
   "cell_type": "code",
   "execution_count": 28,
   "metadata": {},
   "outputs": [],
   "source": [
    "study_dict = dict(zip(bdata.obs['patient_id'], bdata.obs['study_id']))\n",
    "for x in ['Healthy', 'Asymptomatic', 'Mild', 'Moderate', 'Severe', 'Critical']:\n",
    "    vdj[x].metadata['study_id'] = [study_dict[y] for y in vdj[x].metadata['patient_id']]\n",
    "vdj['Malignant'].metadata['study_id'] = vdj['Malignant'].metadata['patient_id']"
   ]
  },
  {
   "cell_type": "code",
   "execution_count": 29,
   "metadata": {
    "scrolled": true
   },
   "outputs": [
    {
     "name": "stderr",
     "output_type": "stream",
     "text": [
      "/nfs/users/nfs_k/kt16/miniconda2/envs/dandelion/lib/python3.7/site-packages/dandelion/tools/_diversity.py:299: UserWarning: The minimum cell numbers when grouped by study_id is 38 (group COVID-068). Exercise caution when interpreting diversity measures.\n"
     ]
    },
    {
     "name": "stdout",
     "output_type": "stream",
     "text": [
      "Computing gini indices for clone size using metadata and node closeness centrality using network.\n"
     ]
    },
    {
     "name": "stderr",
     "output_type": "stream",
     "text": [
      "/nfs/users/nfs_k/kt16/miniconda2/envs/dandelion/lib/python3.7/site-packages/dandelion/tools/_diversity.py:299: UserWarning: The minimum cell numbers when grouped by study_id is 92 (group CV0059). Exercise caution when interpreting diversity measures.\n"
     ]
    },
    {
     "name": "stdout",
     "output_type": "stream",
     "text": [
      "Computing gini indices for clone size using metadata and node closeness centrality using network.\n"
     ]
    },
    {
     "name": "stderr",
     "output_type": "stream",
     "text": [
      "/nfs/users/nfs_k/kt16/miniconda2/envs/dandelion/lib/python3.7/site-packages/dandelion/tools/_diversity.py:299: UserWarning: The minimum cell numbers when grouped by study_id is 58 (group CV0050). Exercise caution when interpreting diversity measures.\n"
     ]
    },
    {
     "name": "stdout",
     "output_type": "stream",
     "text": [
      "Computing gini indices for clone size using metadata and node closeness centrality using network.\n"
     ]
    },
    {
     "name": "stderr",
     "output_type": "stream",
     "text": [
      "/nfs/users/nfs_k/kt16/miniconda2/envs/dandelion/lib/python3.7/site-packages/dandelion/tools/_diversity.py:299: UserWarning: The minimum cell numbers when grouped by study_id is 1 (group COVID-061). Exercise caution when interpreting diversity measures.\n"
     ]
    },
    {
     "name": "stdout",
     "output_type": "stream",
     "text": [
      "Computing gini indices for clone size using metadata and node closeness centrality using network.\n"
     ]
    },
    {
     "name": "stderr",
     "output_type": "stream",
     "text": [
      "/nfs/users/nfs_k/kt16/miniconda2/envs/dandelion/lib/python3.7/site-packages/dandelion/tools/_diversity.py:299: UserWarning: The minimum cell numbers when grouped by study_id is 58 (group CV0176). Exercise caution when interpreting diversity measures.\n"
     ]
    },
    {
     "name": "stdout",
     "output_type": "stream",
     "text": [
      "Computing gini indices for clone size using metadata and node closeness centrality using network.\n"
     ]
    },
    {
     "name": "stderr",
     "output_type": "stream",
     "text": [
      "/nfs/users/nfs_k/kt16/miniconda2/envs/dandelion/lib/python3.7/site-packages/dandelion/tools/_diversity.py:299: UserWarning: The minimum cell numbers when grouped by study_id is 75 (group CV0180). Exercise caution when interpreting diversity measures.\n"
     ]
    },
    {
     "name": "stdout",
     "output_type": "stream",
     "text": [
      "Computing gini indices for clone size using metadata and node closeness centrality using network.\n",
      "Computing gini indices for clone size using metadata and node closeness centrality using network.\n"
     ]
    }
   ],
   "source": [
    "for x in vdj:\n",
    "    ddl.tl.clone_diversity(vdj[x], groupby = 'study_id', metric = 'clone_centrality')"
   ]
  },
  {
   "cell_type": "code",
   "execution_count": 30,
   "metadata": {},
   "outputs": [],
   "source": [
    "data = pd.DataFrame()\n",
    "for x in vdj:\n",
    "    data = data.append(vdj[x].metadata)"
   ]
  },
  {
   "cell_type": "code",
   "execution_count": 31,
   "metadata": {},
   "outputs": [],
   "source": [
    "import seaborn as sns\n",
    "import matplotlib.pyplot as plt"
   ]
  },
  {
   "cell_type": "code",
   "execution_count": 32,
   "metadata": {},
   "outputs": [],
   "source": [
    "pt_dict =dict(zip(data['sample_id'], data['Status_on_day_collection_summary']))\n",
    "pt_dict.update({'CV0198':'Malignant'})\n",
    "data['Status_on_day_collection_summary'] = [pt_dict[t] for t in data['sample_id']]"
   ]
  },
  {
   "cell_type": "code",
   "execution_count": 33,
   "metadata": {},
   "outputs": [],
   "source": [
    "col_dict = {'Healthy':'#2ca02c',\n",
    "'LPS':'#1f77b4',\n",
    "'Non_covid':'#9467bd',\n",
    "'Asymptomatic':'#fed976',\n",
    "'Mild':'#fd8d3c',\n",
    "'Moderate':'#e31a1c',\n",
    "'Severe':'#800026',\n",
    "'Critical':'#252525',\n",
    "'Malignant':'#b7b7b7'}\n",
    "col_dict2 = {'Male':'#d1d3d7',\n",
    "             'Female':'#fca311'}"
   ]
  },
  {
   "cell_type": "code",
   "execution_count": 34,
   "metadata": {},
   "outputs": [],
   "source": [
    "import matplotlib\n",
    "matplotlib.rcParams['pdf.fonttype'] = 42\n",
    "matplotlib.rcParams['ps.fonttype'] = 42"
   ]
  },
  {
   "cell_type": "code",
   "execution_count": null,
   "metadata": {},
   "outputs": [],
   "source": []
  },
  {
   "cell_type": "code",
   "execution_count": 36,
   "metadata": {},
   "outputs": [],
   "source": [
    "combine_dict ={'Healthy':'Control', 'Asymptomatic':'Control', 'Mild':'COVID symptomatic', 'Moderate':'COVID symptomatic', 'Severe':'COVID symptomatic', 'Critical':'COVID symptomatic', 'Non_covid':'Non_covid', 'LPS':'LPS', 'Malignant':'Malignant'}\n",
    "data['status_combined']= [combine_dict[l] for l in data['Status_on_day_collection_summary']]"
   ]
  },
  {
   "cell_type": "code",
   "execution_count": 37,
   "metadata": {},
   "outputs": [],
   "source": [
    "import matplotlib.gridspec as gridspec\n",
    "import matplotlib.pyplot as plt\n",
    "import pandas as pd"
   ]
  },
  {
   "cell_type": "code",
   "execution_count": 38,
   "metadata": {},
   "outputs": [],
   "source": [
    "data1 = data[data['Status_on_day_collection_summary'].isin(['Healthy', 'Asymptomatic'])]\n",
    "data2 = data[~(data['Status_on_day_collection_summary'].isin(['Healthy', 'LPS', 'Non_covid', 'Asymptomatic']))]"
   ]
  },
  {
   "cell_type": "code",
   "execution_count": 39,
   "metadata": {},
   "outputs": [],
   "source": [
    "if not os.path.exists('figures/jointplot'):\n",
    "    os.makedirs('figures/jointplot')"
   ]
  },
  {
   "cell_type": "code",
   "execution_count": 40,
   "metadata": {},
   "outputs": [
    {
     "data": {
      "image/png": "[encoded data removed]",
      "text/plain": [
       "<Figure size 288x288 with 3 Axes>"
      ]
     },
     "metadata": {
      "needs_background": "light"
     },
     "output_type": "display_data"
    }
   ],
   "source": [
    "ax = sns.jointplot(y='clone_centrality_gini', x = \"clone_size_gini\", hue = 'Status_on_day_collection_summary', palette = col_dict, data = data1, xlim = (-0.1, 1), ylim = (-0.1,1), height = 4, marginal_kws={\"alpha\":0}, rasterized=True)\n",
    "ax.ax_joint.get_legend().remove()\n",
    "plt.savefig('figures/jointplot/control_gini_scatterv1_v2.pdf', dpi = 900)"
   ]
  },
  {
   "cell_type": "code",
   "execution_count": 41,
   "metadata": {},
   "outputs": [
    {
     "name": "stderr",
     "output_type": "stream",
     "text": [
      "/nfs/users/nfs_k/kt16/miniconda2/envs/dandelion/lib/python3.7/site-packages/seaborn/distributions.py:305: UserWarning: Dataset has 0 variance; skipping density estimate.\n",
      "/nfs/users/nfs_k/kt16/miniconda2/envs/dandelion/lib/python3.7/site-packages/seaborn/distributions.py:305: UserWarning: Dataset has 0 variance; skipping density estimate.\n"
     ]
    },
    {
     "data": {
      "image/png": "[encoded data removed]",
      "text/plain": [
       "<Figure size 288x288 with 3 Axes>"
      ]
     },
     "metadata": {
      "needs_background": "light"
     },
     "output_type": "display_data"
    }
   ],
   "source": [
    "ax = sns.jointplot(y='clone_centrality_gini', x = \"clone_size_gini\", hue = 'Status_on_day_collection_summary', palette = col_dict, data = data2, xlim =(-0.1, 1), ylim = (-0.1,1), height = 4, marginal_kws={\"alpha\":0}, rasterized=True)\n",
    "ax.ax_joint.get_legend().remove()\n",
    "plt.savefig('figures/jointplot/covid_gini_scatterv1_v2.pdf', dpi = 900)"
   ]
  },
  {
   "cell_type": "code",
   "execution_count": 42,
   "metadata": {},
   "outputs": [
    {
     "data": {
      "image/png": "[encoded data removed]",
      "text/plain": [
       "<Figure size 432x288 with 1 Axes>"
      ]
     },
     "metadata": {
      "needs_background": "light"
     },
     "output_type": "display_data"
    }
   ],
   "source": [
    "ax = sns.boxplot(y=\"clone_size_gini\", x = 'Status_on_day_collection_summary', data = data, hue = 'Sex', palette = ['#fca311','#d1d3d7'], showfliers=False)\n",
    "ax.set_ylim((0,1))\n",
    "plt.setp(ax.artists, edgecolor = 'k', linewidth = 1)\n",
    "plt.setp(ax.lines, color='k',linewidth = 1)\n",
    "plt.xticks(rotation=90)\n",
    "plt.legend(bbox_to_anchor=(1.05, 1), loc='upper left', frameon = False)\n",
    "plt.savefig('figures/boxplot/clone_size_gini_v2_v2.pdf')"
   ]
  },
  {
   "cell_type": "code",
   "execution_count": 43,
   "metadata": {},
   "outputs": [
    {
     "data": {
      "image/png": "[encoded data removed]",
      "text/plain": [
       "<Figure size 432x288 with 1 Axes>"
      ]
     },
     "metadata": {
      "needs_background": "light"
     },
     "output_type": "display_data"
    }
   ],
   "source": [
    "ax = sns.boxplot(y=\"clone_centrality_gini\", x = 'Status_on_day_collection_summary', data = data, hue = 'Sex', palette = ['#fca311','#d1d3d7'], showfliers=False)\n",
    "ax.set_ylim((0,1))\n",
    "plt.setp(ax.artists, edgecolor = 'k', linewidth = 1)\n",
    "plt.setp(ax.lines, color='k',linewidth = 1)\n",
    "plt.xticks(rotation=90)\n",
    "plt.legend(bbox_to_anchor=(1.05, 1), loc='upper left', frameon = False)\n",
    "plt.savefig('figures/boxplot/centrality_gini_v2_v2.pdf')"
   ]
  },
  {
   "cell_type": "code",
   "execution_count": 44,
   "metadata": {},
   "outputs": [],
   "source": [
    "from scipy import stats\n",
    "all_t = list()\n",
    "all_p = list()\n",
    "for status in ['Healthy','Asymptomatic', 'Mild', 'Moderate','Severe','Critical']:\n",
    "    sub_df = data[data.Status_on_day_collection_summary == status]\n",
    "    g1 = sub_df[sub_df['Sex'] == 'Male']['clone_size_gini'].values\n",
    "    g2 = sub_df[sub_df['Sex'] == 'Female']['clone_size_gini'].values\n",
    "    _, p = stats.mannwhitneyu(g1, g2)\n",
    "    t, _ = stats.ttest_ind(g1, g2)\n",
    "    all_t.append(t)\n",
    "    all_p.append(p)"
   ]
  },
  {
   "cell_type": "code",
   "execution_count": 45,
   "metadata": {},
   "outputs": [
    {
     "data": {
      "text/plain": [
       "[3.372370123296996,\n",
       " -14.296555828101697,\n",
       " -14.800709242753156,\n",
       " -2.1195592347604513,\n",
       " -21.795730723079977,\n",
       " -9.508704241498947]"
      ]
     },
     "execution_count": 45,
     "metadata": {},
     "output_type": "execute_result"
    }
   ],
   "source": [
    "all_t"
   ]
  },
  {
   "cell_type": "code",
   "execution_count": 46,
   "metadata": {},
   "outputs": [],
   "source": [
    "from dandelion.utilities import bh\n",
    "import numpy as np"
   ]
  },
  {
   "cell_type": "code",
   "execution_count": 47,
   "metadata": {
    "scrolled": true
   },
   "outputs": [
    {
     "data": {
      "text/plain": [
       "[4.212145903141852e-25,\n",
       " 8.341502171406453e-18,\n",
       " 1.5071762508325684e-255,\n",
       " 2.6448929653778083e-86,\n",
       " 1.9497890247612204e-124,\n",
       " 1.3870952673828558e-43]"
      ]
     },
     "execution_count": 47,
     "metadata": {},
     "output_type": "execute_result"
    }
   ],
   "source": [
    "all_p"
   ]
  },
  {
   "cell_type": "code",
   "execution_count": 48,
   "metadata": {},
   "outputs": [
    {
     "data": {
      "text/plain": [
       "array([5.05457508e-025, 8.34150217e-018, 9.04305750e-255, 5.28978593e-086,\n",
       "       5.84936707e-124, 2.08064290e-043])"
      ]
     },
     "execution_count": 48,
     "metadata": {},
     "output_type": "execute_result"
    }
   ],
   "source": [
    "bh(np.array(all_p))"
   ]
  },
  {
   "cell_type": "code",
   "execution_count": 49,
   "metadata": {},
   "outputs": [],
   "source": [
    "from scipy import stats\n",
    "all_t = list()\n",
    "all_p = list()\n",
    "for status in ['Healthy','Asymptomatic', 'Mild', 'Moderate','Severe','Critical']:\n",
    "    sub_df = data[data.Status_on_day_collection_summary == status]\n",
    "    g1 = sub_df[sub_df['Sex'] == 'Male']['clone_centrality_gini'].values\n",
    "    g2 = sub_df[sub_df['Sex'] == 'Female']['clone_centrality_gini'].values\n",
    "    _, p = stats.mannwhitneyu(g1, g2)\n",
    "    t, _ = stats.ttest_ind(g1, g2)\n",
    "    all_t.append(t)\n",
    "    all_p.append(p)"
   ]
  },
  {
   "cell_type": "code",
   "execution_count": 50,
   "metadata": {},
   "outputs": [
    {
     "data": {
      "text/plain": [
       "[44.257905858610826,\n",
       " 6.0122348125934275,\n",
       " -33.67418464034698,\n",
       " -43.74218918231963,\n",
       " -39.86175611436786,\n",
       " 31.412657228422983]"
      ]
     },
     "execution_count": 50,
     "metadata": {},
     "output_type": "execute_result"
    }
   ],
   "source": [
    "all_t"
   ]
  },
  {
   "cell_type": "code",
   "execution_count": 51,
   "metadata": {
    "scrolled": false
   },
   "outputs": [
    {
     "data": {
      "text/plain": [
       "array([1.64645668e-269, 1.49808644e-001, 3.03583142e-205, 1.08704528e-183,\n",
       "       0.00000000e+000, 6.19125815e-189])"
      ]
     },
     "execution_count": 51,
     "metadata": {},
     "output_type": "execute_result"
    }
   ],
   "source": [
    "bh(np.array(all_p))"
   ]
  },
  {
   "cell_type": "code",
   "execution_count": 52,
   "metadata": {},
   "outputs": [
    {
     "name": "stderr",
     "output_type": "stream",
     "text": [
      "/nfs/users/nfs_k/kt16/miniconda2/envs/dandelion/lib/python3.7/site-packages/dandelion/tools/_diversity.py:299: UserWarning: The minimum cell numbers when grouped by patient_id is 38 (group COVID-068). Exercise caution when interpreting diversity measures.\n"
     ]
    },
    {
     "name": "stdout",
     "output_type": "stream",
     "text": [
      "Computing Gini indices for cluster and vertex size using network.\n"
     ]
    },
    {
     "name": "stderr",
     "output_type": "stream",
     "text": [
      "/nfs/users/nfs_k/kt16/miniconda2/envs/dandelion/lib/python3.7/site-packages/dandelion/tools/_diversity.py:299: UserWarning: The minimum cell numbers when grouped by patient_id is 92 (group CV0059). Exercise caution when interpreting diversity measures.\n"
     ]
    },
    {
     "name": "stdout",
     "output_type": "stream",
     "text": [
      "Computing Gini indices for cluster and vertex size using network.\n"
     ]
    },
    {
     "name": "stderr",
     "output_type": "stream",
     "text": [
      "/nfs/users/nfs_k/kt16/miniconda2/envs/dandelion/lib/python3.7/site-packages/dandelion/tools/_diversity.py:299: UserWarning: The minimum cell numbers when grouped by patient_id is 58 (group CV0050). Exercise caution when interpreting diversity measures.\n"
     ]
    },
    {
     "name": "stdout",
     "output_type": "stream",
     "text": [
      "Computing Gini indices for cluster and vertex size using network.\n"
     ]
    },
    {
     "name": "stderr",
     "output_type": "stream",
     "text": [
      "/nfs/users/nfs_k/kt16/miniconda2/envs/dandelion/lib/python3.7/site-packages/dandelion/tools/_diversity.py:299: UserWarning: The minimum cell numbers when grouped by patient_id is 1 (group COVID-061). Exercise caution when interpreting diversity measures.\n"
     ]
    },
    {
     "name": "stdout",
     "output_type": "stream",
     "text": [
      "Computing Gini indices for cluster and vertex size using network.\n"
     ]
    },
    {
     "name": "stderr",
     "output_type": "stream",
     "text": [
      "/nfs/users/nfs_k/kt16/miniconda2/envs/dandelion/lib/python3.7/site-packages/dandelion/tools/_diversity.py:299: UserWarning: The minimum cell numbers when grouped by patient_id is 58 (group CV0176). Exercise caution when interpreting diversity measures.\n"
     ]
    },
    {
     "name": "stdout",
     "output_type": "stream",
     "text": [
      "Computing Gini indices for cluster and vertex size using network.\n"
     ]
    },
    {
     "name": "stderr",
     "output_type": "stream",
     "text": [
      "/nfs/users/nfs_k/kt16/miniconda2/envs/dandelion/lib/python3.7/site-packages/dandelion/tools/_diversity.py:299: UserWarning: The minimum cell numbers when grouped by patient_id is 75 (group CV0180). Exercise caution when interpreting diversity measures.\n"
     ]
    },
    {
     "name": "stdout",
     "output_type": "stream",
     "text": [
      "Computing Gini indices for cluster and vertex size using network.\n",
      "Computing Gini indices for cluster and vertex size using network.\n"
     ]
    }
   ],
   "source": [
    "for x in vdj:\n",
    "    ddl.tl.clone_diversity(vdj[x], groupby = 'patient_id', use_contracted = True)"
   ]
  },
  {
   "cell_type": "code",
   "execution_count": 53,
   "metadata": {},
   "outputs": [],
   "source": [
    "data = pd.DataFrame()\n",
    "for x in vdj:\n",
    "    data = data.append(vdj[x].metadata)"
   ]
  },
  {
   "cell_type": "code",
   "execution_count": 54,
   "metadata": {},
   "outputs": [],
   "source": [
    "pt_dict =dict(zip(data['sample_id'], data['Status_on_day_collection_summary']))\n",
    "pt_dict.update({'CV0198':'Malignant'})\n",
    "data['Status_on_day_collection_summary'] = [pt_dict[t] for t in data['sample_id']]"
   ]
  },
  {
   "cell_type": "code",
   "execution_count": 55,
   "metadata": {},
   "outputs": [],
   "source": [
    "col_dict = {'Healthy':'#2ca02c',\n",
    "'LPS':'#1f77b4',\n",
    "'Non_covid':'#9467bd',\n",
    "'Asymptomatic':'#fed976',\n",
    "'Mild':'#fd8d3c',\n",
    "'Moderate':'#e31a1c',\n",
    "'Severe':'#800026',\n",
    "'Critical':'#252525',\n",
    "'Malignant':'#b7b7b7'}\n",
    "col_dict2 = {'Male':'#d1d3d7',\n",
    "             'Female':'#fca311'}"
   ]
  },
  {
   "cell_type": "code",
   "execution_count": 56,
   "metadata": {},
   "outputs": [],
   "source": [
    "import matplotlib\n",
    "matplotlib.rcParams['pdf.fonttype'] = 42\n",
    "matplotlib.rcParams['ps.fonttype'] = 42"
   ]
  },
  {
   "cell_type": "code",
   "execution_count": 57,
   "metadata": {},
   "outputs": [],
   "source": [
    "combine_dict ={'Healthy':'Control', 'Asymptomatic':'Control', 'Mild':'COVID symptomatic', 'Moderate':'COVID symptomatic', 'Severe':'COVID symptomatic', 'Critical':'COVID symptomatic', 'Non_covid':'Non_covid', 'LPS':'LPS', 'Malignant':'Malignant'}\n",
    "data['status_combined']= [combine_dict[l] for l in data['Status_on_day_collection_summary']]"
   ]
  },
  {
   "cell_type": "code",
   "execution_count": 58,
   "metadata": {},
   "outputs": [],
   "source": [
    "import matplotlib.gridspec as gridspec\n",
    "import matplotlib.pyplot as plt\n",
    "import pandas as pd"
   ]
  },
  {
   "cell_type": "code",
   "execution_count": 59,
   "metadata": {},
   "outputs": [],
   "source": [
    "data1 = data[data['Status_on_day_collection_summary'].isin(['Healthy', 'Asymptomatic'])]\n",
    "data2 = data[~(data['Status_on_day_collection_summary'].isin(['Healthy', 'LPS', 'Non_covid', 'Asymptomatic']))]"
   ]
  },
  {
   "cell_type": "code",
   "execution_count": 60,
   "metadata": {},
   "outputs": [
    {
     "data": {
      "image/png": "[encoded data removed]",
      "text/plain": [
       "<Figure size 288x288 with 3 Axes>"
      ]
     },
     "metadata": {
      "needs_background": "light"
     },
     "output_type": "display_data"
    }
   ],
   "source": [
    "ax = sns.jointplot(y='clone_network_vertex_size_gini', x = \"clone_network_cluster_size_gini\", hue = 'Status_on_day_collection_summary', palette = col_dict, data = data1, xlim = (-0.1, 1), ylim = (-0.1,1), height = 4, marginal_kws={\"alpha\":0}, rasterized=True)\n",
    "ax.ax_joint.get_legend().remove()\n",
    "plt.savefig('figures/jointplot/control_gini_scatterv3_v2.pdf', dpi = 900)"
   ]
  },
  {
   "cell_type": "code",
   "execution_count": 61,
   "metadata": {},
   "outputs": [
    {
     "name": "stderr",
     "output_type": "stream",
     "text": [
      "/nfs/users/nfs_k/kt16/miniconda2/envs/dandelion/lib/python3.7/site-packages/seaborn/distributions.py:305: UserWarning: Dataset has 0 variance; skipping density estimate.\n",
      "/nfs/users/nfs_k/kt16/miniconda2/envs/dandelion/lib/python3.7/site-packages/seaborn/distributions.py:305: UserWarning: Dataset has 0 variance; skipping density estimate.\n"
     ]
    },
    {
     "data": {
      "image/png": "[encoded data removed]",
      "text/plain": [
       "<Figure size 288x288 with 3 Axes>"
      ]
     },
     "metadata": {
      "needs_background": "light"
     },
     "output_type": "display_data"
    }
   ],
   "source": [
    "ax = sns.jointplot(y='clone_network_vertex_size_gini', x = \"clone_network_cluster_size_gini\", hue = 'Status_on_day_collection_summary', palette = col_dict, data = data2, xlim = (-0.1, 1), ylim = (-0.1,1), height = 4, marginal_kws={\"alpha\":0}, rasterized=True)\n",
    "ax.ax_joint.get_legend().remove()\n",
    "plt.savefig('figures/jointplot/covid_gini_scatterv3_v2.pdf',dpi = 900)"
   ]
  },
  {
   "cell_type": "code",
   "execution_count": 62,
   "metadata": {},
   "outputs": [
    {
     "data": {
      "image/png": "[encoded data removed]",
      "text/plain": [
       "<Figure size 432x288 with 1 Axes>"
      ]
     },
     "metadata": {
      "needs_background": "light"
     },
     "output_type": "display_data"
    }
   ],
   "source": [
    "ax = sns.boxplot(y=\"clone_network_vertex_size_gini\", x = 'Status_on_day_collection_summary', data = data, hue = 'Sex', palette = ['#fca311','#d1d3d7'], showfliers=False)\n",
    "ax.set_ylim((0,1))\n",
    "plt.setp(ax.artists, edgecolor = 'k', linewidth = 1)\n",
    "plt.setp(ax.lines, color='k',linewidth = 1)\n",
    "plt.xticks(rotation=90)\n",
    "plt.legend(bbox_to_anchor=(1.05, 1), loc='upper left', frameon = False)\n",
    "plt.savefig('figures/boxplot/vertex_size_gini_v3_v2.pdf')"
   ]
  },
  {
   "cell_type": "code",
   "execution_count": 63,
   "metadata": {},
   "outputs": [
    {
     "data": {
      "image/png": "[encoded data removed]",
      "text/plain": [
       "<Figure size 432x288 with 1 Axes>"
      ]
     },
     "metadata": {
      "needs_background": "light"
     },
     "output_type": "display_data"
    }
   ],
   "source": [
    "ax = sns.boxplot(y=\"clone_network_cluster_size_gini\", x = 'Status_on_day_collection_summary', data = data, hue = 'Sex', palette = ['#fca311','#d1d3d7'], showfliers=False)\n",
    "ax.set_ylim((0,1))\n",
    "plt.setp(ax.artists, edgecolor = 'k', linewidth = 1)\n",
    "plt.setp(ax.lines, color='k',linewidth = 1)\n",
    "plt.xticks(rotation=90)\n",
    "plt.legend(bbox_to_anchor=(1.05, 1), loc='upper left', frameon = False)\n",
    "plt.savefig('figures/boxplot/clone_size_gini_v3_v2.pdf')"
   ]
  },
  {
   "cell_type": "code",
   "execution_count": 64,
   "metadata": {},
   "outputs": [],
   "source": [
    "from scipy import stats\n",
    "all_t = list()\n",
    "all_p = list()\n",
    "for status in ['Healthy','Asymptomatic', 'Mild', 'Moderate','Severe','Critical']:\n",
    "    sub_df = data[data.Status_on_day_collection_summary == status]\n",
    "    g1 = sub_df[sub_df['Sex'] == 'Male']['clone_network_cluster_size_gini'].values\n",
    "    g2 = sub_df[sub_df['Sex'] == 'Female']['clone_network_cluster_size_gini'].values\n",
    "    _, p = stats.mannwhitneyu(g1, g2)\n",
    "    t, _ = stats.ttest_ind(g1, g2)\n",
    "    all_t.append(t)\n",
    "    all_p.append(p)"
   ]
  },
  {
   "cell_type": "code",
   "execution_count": 65,
   "metadata": {},
   "outputs": [
    {
     "data": {
      "text/plain": [
       "[7.360942000011471,\n",
       " -1.7988370978590082,\n",
       " -18.088757350028068,\n",
       " -33.83203032739706,\n",
       " -23.536344547683168,\n",
       " 0.6596467574503233]"
      ]
     },
     "execution_count": 65,
     "metadata": {},
     "output_type": "execute_result"
    }
   ],
   "source": [
    "all_t"
   ]
  },
  {
   "cell_type": "code",
   "execution_count": 66,
   "metadata": {},
   "outputs": [],
   "source": [
    "from dandelion.utilities import bh\n",
    "import numpy as np"
   ]
  },
  {
   "cell_type": "code",
   "execution_count": 67,
   "metadata": {},
   "outputs": [
    {
     "data": {
      "text/plain": [
       "[0.3422735445978693,\n",
       " 1.2761775098847783e-25,\n",
       " 1.2852291409122593e-272,\n",
       " 4.38018868922525e-170,\n",
       " 1.9178222386179607e-113,\n",
       " 0.2486608599270374]"
      ]
     },
     "execution_count": 67,
     "metadata": {},
     "output_type": "execute_result"
    }
   ],
   "source": [
    "all_p"
   ]
  },
  {
   "cell_type": "code",
   "execution_count": 68,
   "metadata": {},
   "outputs": [
    {
     "data": {
      "text/plain": [
       "array([3.42273545e-001, 1.91426626e-025, 7.71137485e-272, 1.31405661e-169,\n",
       "       3.83564448e-113, 2.98393032e-001])"
      ]
     },
     "execution_count": 68,
     "metadata": {},
     "output_type": "execute_result"
    }
   ],
   "source": [
    "bh(np.array(all_p))"
   ]
  },
  {
   "cell_type": "code",
   "execution_count": 69,
   "metadata": {},
   "outputs": [],
   "source": [
    "from scipy import stats\n",
    "all_t = list()\n",
    "all_p = list()\n",
    "for status in ['Healthy','Asymptomatic', 'Mild', 'Moderate','Severe','Critical']:\n",
    "    sub_df = data[data.Status_on_day_collection_summary == status]\n",
    "    g1 = sub_df[sub_df['Sex'] == 'Male']['clone_network_vertex_size_gini'].values\n",
    "    g2 = sub_df[sub_df['Sex'] == 'Female']['clone_network_vertex_size_gini'].values\n",
    "    _, p = stats.mannwhitneyu(g1, g2)\n",
    "    t, _ = stats.ttest_ind(g1, g2)\n",
    "    all_t.append(t)\n",
    "    all_p.append(p)"
   ]
  },
  {
   "cell_type": "code",
   "execution_count": 70,
   "metadata": {},
   "outputs": [
    {
     "data": {
      "text/plain": [
       "[15.651165406160896,\n",
       " -1.9383306536845994,\n",
       " 3.9195872703936385,\n",
       " -7.877362996544824,\n",
       " -20.347228923580634,\n",
       " -9.281443314689756]"
      ]
     },
     "execution_count": 70,
     "metadata": {},
     "output_type": "execute_result"
    }
   ],
   "source": [
    "all_t"
   ]
  },
  {
   "cell_type": "code",
   "execution_count": 71,
   "metadata": {},
   "outputs": [],
   "source": [
    "from dandelion.utilities import bh\n",
    "import numpy as np"
   ]
  },
  {
   "cell_type": "code",
   "execution_count": 72,
   "metadata": {},
   "outputs": [
    {
     "data": {
      "text/plain": [
       "[3.718672611480518e-58,\n",
       " 0.2172045091039489,\n",
       " 0.0,\n",
       " 2.428082726505997e-49,\n",
       " 1.3454620913844752e-53,\n",
       " 0.0001972660824569506]"
      ]
     },
     "execution_count": 72,
     "metadata": {},
     "output_type": "execute_result"
    }
   ],
   "source": [
    "all_p"
   ]
  },
  {
   "cell_type": "code",
   "execution_count": 73,
   "metadata": {},
   "outputs": [
    {
     "data": {
      "text/plain": [
       "array([1.11560178e-57, 2.17204509e-01, 0.00000000e+00, 3.64212409e-49,\n",
       "       2.69092418e-53, 2.36719299e-04])"
      ]
     },
     "execution_count": 73,
     "metadata": {},
     "output_type": "execute_result"
    }
   ],
   "source": [
    "bh(np.array(all_p))"
   ]
  },
  {
   "cell_type": "code",
   "execution_count": null,
   "metadata": {},
   "outputs": [],
   "source": []
  }
 ],
 "metadata": {
  "kernelspec": {
   "display_name": "Python 3",
   "language": "python",
   "name": "python3"
  },
  "language_info": {
   "codemirror_mode": {
    "name": "ipython",
    "version": 3
   },
   "file_extension": ".py",
   "mimetype": "text/x-python",
   "name": "python",
   "nbconvert_exporter": "python",
   "pygments_lexer": "ipython3",
   "version": "3.7.9"
  }
 },
 "nbformat": 4,
 "nbformat_minor": 4
}
