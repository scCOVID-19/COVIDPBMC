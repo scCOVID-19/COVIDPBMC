{
 "cells": [
  {
   "cell_type": "code",
   "execution_count": 1,
   "metadata": {
    "scrolled": true
   },
   "outputs": [
    {
     "name": "stdout",
     "output_type": "stream",
     "text": [
      "scanpy==1.6.0 anndata==0.7.4 umap==0.4.6 numpy==1.18.5 scipy==1.4.1 pandas==1.1.3 scikit-learn==0.23.2 statsmodels==0.12.0 python-igraph==0.7.1 leidenalg==0.8.2\n"
     ]
    }
   ],
   "source": [
    "# import the transcriptome data\n",
    "import os\n",
    "import dandelion as ddl\n",
    "import pandas as pd\n",
    "import scanpy as sc\n",
    "sc.logging.print_header()"
   ]
  },
  {
   "cell_type": "code",
   "execution_count": 2,
   "metadata": {},
   "outputs": [
    {
     "data": {
      "text/plain": [
       "'0.0.26'"
      ]
     },
     "execution_count": 2,
     "metadata": {},
     "output_type": "execute_result"
    }
   ],
   "source": [
    "ddl.__version__"
   ]
  },
  {
   "cell_type": "code",
   "execution_count": 3,
   "metadata": {},
   "outputs": [
    {
     "data": {
      "text/plain": [
       "'/lustre/scratch117/cellgen/team297/kt16/newcastle_covid/notebooks'"
      ]
     },
     "execution_count": 3,
     "metadata": {},
     "output_type": "execute_result"
    }
   ],
   "source": [
    "os.getcwd()"
   ]
  },
  {
   "cell_type": "code",
   "execution_count": 4,
   "metadata": {},
   "outputs": [],
   "source": [
    "os.chdir('/lustre/scratch117/cellgen/team297/kt16/newcastle_covid')"
   ]
  },
  {
   "cell_type": "code",
   "execution_count": 5,
   "metadata": {
    "scrolled": false
   },
   "outputs": [
    {
     "name": "stdout",
     "output_type": "stream",
     "text": [
      "CPU times: user 6.23 s, sys: 487 ms, total: 6.72 s\n",
      "Wall time: 6.7 s\n"
     ]
    },
    {
     "name": "stderr",
     "output_type": "stream",
     "text": [
      "/nfs/users/nfs_k/kt16/miniconda2/envs/dandelion/lib/python3.7/site-packages/anndata/_core/anndata.py:1094: FutureWarning: is_categorical is deprecated and will be removed in a future version.  Use is_categorical_dtype instead\n"
     ]
    },
    {
     "data": {
      "text/plain": [
       "AnnData object with n_obs × n_vars = 43841 × 1064\n",
       "    obs: 'sample_id', 'n_genes', 'n_genes_by_counts', 'total_counts', 'total_counts_mt', 'pct_counts_mt', 'leiden', 'initial_clustering', 'Resample', 'Collection_Day', 'patient_id', 'Sex', 'Age', 'Ethnicity', 'Swab_result', 'Status', 'Smoker', 'Status_on_day_collection', 'Status_on_day_collection_summary', 'Status_3_days_post_collection', 'Status_7_days_post_collection', 'Days_from_onset', 'Site', 'time_after_LPS', 'Worst_Clinical_Status', 'Outcome', 'filter_rna', 'has_bcr', 'filter_bcr_quality', 'filter_bcr_heavy', 'filter_bcr_light', 'bcr_QC_pass', 'filter_bcr', 'initial_clustering_B', 'leiden_B', 'leiden_B2', 'celltype_B', 'celltype_B_v2'\n",
       "    var: 'feature_types', 'highly_variable', 'means', 'dispersions', 'dispersions_norm', 'mean', 'std'\n",
       "    uns: 'Site_colors', 'Status_on_day_collection_summary_colors', 'bcr_QC_pass_colors', 'celltype_B_colors', 'celltype_B_v2_colors', \"dendrogram_['leiden_B']\", \"dendrogram_['leiden_B2']\", 'filter_bcr_colors', 'hvg', 'initial_clustering_colors', 'leiden', 'leiden_B_colors', 'leiden_colors', 'neighbors', 'pca', 'rank_genes_groups', 'umap'\n",
       "    obsm: 'X_pca', 'X_pca_harmony', 'X_umap'\n",
       "    varm: 'PCs'\n",
       "    obsp: 'connectivities', 'distances'"
      ]
     },
     "execution_count": 5,
     "metadata": {},
     "output_type": "execute_result"
    }
   ],
   "source": [
    "# Read in B cell data\n",
    "%time bdata = sc.read_h5ad('h5ad/combined_dec_bcells.h5ad')\n",
    "# subset to only D0 \n",
    "bdata = bdata[(bdata.obs['Collection_Day'] == 'D0')& (bdata.obs['bcr_QC_pass'] == 'True')].copy()\n",
    "bdata"
   ]
  },
  {
   "cell_type": "code",
   "execution_count": 6,
   "metadata": {},
   "outputs": [],
   "source": [
    "# subset to each severity  classification\n",
    "from collections import defaultdict\n",
    "adata = defaultdict(dict)\n",
    "vdj = defaultdict(dict)"
   ]
  },
  {
   "cell_type": "code",
   "execution_count": 7,
   "metadata": {},
   "outputs": [],
   "source": [
    "# subset each status and place it in adata\n",
    "for x in ['Healthy', 'Asymptomatic', 'Mild', 'Moderate', 'Severe', 'Critical', 'Non_covid', 'LPS']:\n",
    "    adata[x] = bdata[bdata.obs['Status_on_day_collection_summary'] == x].copy()"
   ]
  },
  {
   "cell_type": "code",
   "execution_count": 8,
   "metadata": {},
   "outputs": [],
   "source": [
    "vdj_files = {\"Critical\":'dandelion_output/combined_dec_bcell_vdj_critical.h5',\n",
    "             \"Severe\":'dandelion_output/combined_dec_bcell_vdj_severe.h5',\n",
    "             \"Moderate\":'dandelion_output/combined_dec_bcell_vdj_moderate.h5',\n",
    "             \"Mild\":'dandelion_output/combined_dec_bcell_vdj_mild.h5',\n",
    "             \"LPS\":'dandelion_output/combined_dec_bcell_vdj_lps.h5',\n",
    "             \"Non_covid\":'dandelion_output/combined_dec_bcell_vdj_non_covid.h5',\n",
    "             \"Asymptomatic\":'dandelion_output/combined_dec_bcell_vdj_asymptomatic.h5',\n",
    "             \"Healthy\":'dandelion_output/combined_dec_bcell_vdj_healthy.h5',\n",
    "             \"Malignant\":'dandelion_output/combined_dec_bcell_vdj_malignant.h5'}"
   ]
  },
  {
   "cell_type": "code",
   "execution_count": 9,
   "metadata": {},
   "outputs": [],
   "source": [
    "# also read in the vdj objects\n",
    "for x in ['Healthy', 'Asymptomatic', 'Mild', 'Moderate', 'Severe', 'Critical', 'Non_covid', 'LPS', 'Malignant']:\n",
    "    vdj[x] = ddl.read_h5(vdj_files[x])"
   ]
  },
  {
   "cell_type": "code",
   "execution_count": 10,
   "metadata": {
    "scrolled": true
   },
   "outputs": [
    {
     "name": "stderr",
     "output_type": "stream",
     "text": [
      "/nfs/users/nfs_k/kt16/miniconda2/envs/dandelion/lib/python3.7/site-packages/dandelion/tools/_diversity.py:295: UserWarning: The minimum cell numbers when grouped by patient_id is 38 (group C-8941). Exercise caution when interpreting diversity measures.\n"
     ]
    },
    {
     "name": "stdout",
     "output_type": "stream",
     "text": [
      "Computing Gini indices for cluster and vertex size using network.\n"
     ]
    },
    {
     "name": "stderr",
     "output_type": "stream",
     "text": [
      "/nfs/users/nfs_k/kt16/miniconda2/envs/dandelion/lib/python3.7/site-packages/dandelion/tools/_diversity.py:295: UserWarning: The minimum cell numbers when grouped by patient_id is 91 (group CV0059). Exercise caution when interpreting diversity measures.\n"
     ]
    },
    {
     "name": "stdout",
     "output_type": "stream",
     "text": [
      "Computing Gini indices for cluster and vertex size using network.\n"
     ]
    },
    {
     "name": "stderr",
     "output_type": "stream",
     "text": [
      "/nfs/users/nfs_k/kt16/miniconda2/envs/dandelion/lib/python3.7/site-packages/dandelion/tools/_diversity.py:295: UserWarning: The minimum cell numbers when grouped by patient_id is 2 (group CV0326). Exercise caution when interpreting diversity measures.\n"
     ]
    },
    {
     "name": "stdout",
     "output_type": "stream",
     "text": [
      "Computing Gini indices for cluster and vertex size using network.\n"
     ]
    },
    {
     "name": "stderr",
     "output_type": "stream",
     "text": [
      "/nfs/users/nfs_k/kt16/miniconda2/envs/dandelion/lib/python3.7/site-packages/dandelion/tools/_diversity.py:295: UserWarning: The minimum cell numbers when grouped by patient_id is 1 (group C-8934). Exercise caution when interpreting diversity measures.\n"
     ]
    },
    {
     "name": "stdout",
     "output_type": "stream",
     "text": [
      "Computing Gini indices for cluster and vertex size using network.\n"
     ]
    },
    {
     "name": "stderr",
     "output_type": "stream",
     "text": [
      "/nfs/users/nfs_k/kt16/miniconda2/envs/dandelion/lib/python3.7/site-packages/dandelion/tools/_diversity.py:295: UserWarning: The minimum cell numbers when grouped by patient_id is 56 (group CV0176). Exercise caution when interpreting diversity measures.\n"
     ]
    },
    {
     "name": "stdout",
     "output_type": "stream",
     "text": [
      "Computing Gini indices for cluster and vertex size using network.\n"
     ]
    },
    {
     "name": "stderr",
     "output_type": "stream",
     "text": [
      "/nfs/users/nfs_k/kt16/miniconda2/envs/dandelion/lib/python3.7/site-packages/dandelion/tools/_diversity.py:295: UserWarning: The minimum cell numbers when grouped by patient_id is 79 (group CV0180). Exercise caution when interpreting diversity measures.\n"
     ]
    },
    {
     "name": "stdout",
     "output_type": "stream",
     "text": [
      "Computing Gini indices for cluster and vertex size using network.\n"
     ]
    },
    {
     "name": "stderr",
     "output_type": "stream",
     "text": [
      "/nfs/users/nfs_k/kt16/miniconda2/envs/dandelion/lib/python3.7/site-packages/dandelion/tools/_diversity.py:295: UserWarning: The minimum cell numbers when grouped by patient_id is 22 (group C-8913). Exercise caution when interpreting diversity measures.\n"
     ]
    },
    {
     "name": "stdout",
     "output_type": "stream",
     "text": [
      "Computing Gini indices for cluster and vertex size using network.\n"
     ]
    },
    {
     "name": "stderr",
     "output_type": "stream",
     "text": [
      "/nfs/users/nfs_k/kt16/miniconda2/envs/dandelion/lib/python3.7/site-packages/dandelion/tools/_diversity.py:295: UserWarning: The minimum cell numbers when grouped by patient_id is 97 (group IVLPS-4). Exercise caution when interpreting diversity measures.\n"
     ]
    },
    {
     "name": "stdout",
     "output_type": "stream",
     "text": [
      "Computing Gini indices for cluster and vertex size using network.\n",
      "Computing Gini indices for cluster and vertex size using network.\n"
     ]
    }
   ],
   "source": [
    "for x in vdj:\n",
    "    ddl.tl.clone_diversity(vdj[x], groupby = 'patient_id', use_contracted = True)"
   ]
  },
  {
   "cell_type": "code",
   "execution_count": 11,
   "metadata": {},
   "outputs": [],
   "source": [
    "data = pd.DataFrame()\n",
    "for x in vdj:\n",
    "    data = data.append(vdj[x].metadata)"
   ]
  },
  {
   "cell_type": "code",
   "execution_count": 12,
   "metadata": {},
   "outputs": [],
   "source": [
    "import seaborn as sns\n",
    "import matplotlib.pyplot as plt"
   ]
  },
  {
   "cell_type": "code",
   "execution_count": 13,
   "metadata": {},
   "outputs": [],
   "source": [
    "pt_dict =dict(zip(data['sample_id'], data['Status_on_day_collection_summary']))\n",
    "pt_dict.update({'CV0198':'Malignant'})\n",
    "data['Status_on_day_collection_summary'] = [pt_dict[t] for t in data['sample_id']]"
   ]
  },
  {
   "cell_type": "code",
   "execution_count": 14,
   "metadata": {},
   "outputs": [],
   "source": [
    "col_dict = {'Healthy':'#2ca02c',\n",
    "'LPS':'#1f77b4',\n",
    "'Non_covid':'#9467bd',\n",
    "'Asymptomatic':'#fed976',\n",
    "'Mild':'#fd8d3c',\n",
    "'Moderate':'#e31a1c',\n",
    "'Severe':'#800026',\n",
    "'Critical':'#252525',\n",
    "'Malignant':'#b7b7b7'}\n",
    "col_dict2 = {'Male':'#d1d3d7',\n",
    "             'Female':'#fca311'}"
   ]
  },
  {
   "cell_type": "code",
   "execution_count": 15,
   "metadata": {},
   "outputs": [],
   "source": [
    "import matplotlib\n",
    "matplotlib.rcParams['pdf.fonttype'] = 42\n",
    "matplotlib.rcParams['ps.fonttype'] = 42"
   ]
  },
  {
   "cell_type": "code",
   "execution_count": 16,
   "metadata": {},
   "outputs": [],
   "source": [
    "combine_dict ={'Healthy':'Control', 'Asymptomatic':'Control', 'Mild':'COVID symptomatic', 'Moderate':'COVID symptomatic', 'Severe':'COVID symptomatic', 'Critical':'COVID symptomatic', 'Non_covid':'Non_covid', 'LPS':'LPS', 'Malignant':'Malignant'}\n",
    "data['status_combined']= [combine_dict[l] for l in data['Status_on_day_collection_summary']]"
   ]
  },
  {
   "cell_type": "code",
   "execution_count": 17,
   "metadata": {},
   "outputs": [],
   "source": [
    "import matplotlib.gridspec as gridspec\n",
    "import matplotlib.pyplot as plt\n",
    "import pandas as pd"
   ]
  },
  {
   "cell_type": "code",
   "execution_count": 18,
   "metadata": {},
   "outputs": [],
   "source": [
    "data1 = data[data['Status_on_day_collection_summary'].isin(['Healthy', 'Asymptomatic'])]\n",
    "data2 = data[~(data['Status_on_day_collection_summary'].isin(['Healthy', 'LPS', 'Non_covid', 'Asymptomatic']))]"
   ]
  },
  {
   "cell_type": "code",
   "execution_count": 19,
   "metadata": {},
   "outputs": [],
   "source": [
    "if not os.path.exists('figures/jointplot'):\n",
    "    os.makedirs('figures/jointplot')"
   ]
  },
  {
   "cell_type": "code",
   "execution_count": 20,
   "metadata": {},
   "outputs": [
    {
     "data": {
      "image/png": "[encoded data removed]",
      "text/plain": [
       "<Figure size 288x288 with 3 Axes>"
      ]
     },
     "metadata": {
      "needs_background": "light"
     },
     "output_type": "display_data"
    }
   ],
   "source": [
    "ax = sns.jointplot(y='clone_network_vertex_size_gini', x = \"clone_network_cluster_size_gini\", hue = 'Status_on_day_collection_summary', palette = col_dict, data = data1, xlim = (-0.1, 1), ylim = (-0.1,1), height = 4, marginal_kws={\"alpha\":0}, rasterized=True)\n",
    "ax.ax_joint.get_legend().remove()\n",
    "plt.savefig('figures/jointplot/control_gini_scatterv3.pdf', dpi = 900)"
   ]
  },
  {
   "cell_type": "code",
   "execution_count": 21,
   "metadata": {},
   "outputs": [
    {
     "name": "stderr",
     "output_type": "stream",
     "text": [
      "/nfs/users/nfs_k/kt16/miniconda2/envs/dandelion/lib/python3.7/site-packages/seaborn/distributions.py:305: UserWarning: Dataset has 0 variance; skipping density estimate.\n",
      "/nfs/users/nfs_k/kt16/miniconda2/envs/dandelion/lib/python3.7/site-packages/seaborn/distributions.py:305: UserWarning: Dataset has 0 variance; skipping density estimate.\n"
     ]
    },
    {
     "data": {
      "image/png": "[encoded data removed]",
      "text/plain": [
       "<Figure size 288x288 with 3 Axes>"
      ]
     },
     "metadata": {
      "needs_background": "light"
     },
     "output_type": "display_data"
    }
   ],
   "source": [
    "ax = sns.jointplot(y='clone_network_vertex_size_gini', x = \"clone_network_cluster_size_gini\", hue = 'Status_on_day_collection_summary', palette = col_dict, data = data2, xlim = (-0.1, 1), ylim = (-0.1,1), height = 4, marginal_kws={\"alpha\":0}, rasterized=True)\n",
    "ax.ax_joint.get_legend().remove()\n",
    "plt.savefig('figures/jointplot/covid_gini_scatterv3.pdf',dpi = 900)"
   ]
  },
  {
   "cell_type": "code",
   "execution_count": 22,
   "metadata": {},
   "outputs": [
    {
     "data": {
      "image/png": "[encoded data removed]",
      "text/plain": [
       "<Figure size 432x288 with 1 Axes>"
      ]
     },
     "metadata": {
      "needs_background": "light"
     },
     "output_type": "display_data"
    }
   ],
   "source": [
    "ax = sns.boxplot(y=\"clone_network_cluster_size_gini\", x = 'Status_on_day_collection_summary', data = data, hue = 'Sex', palette = ['#fca311','#d1d3d7'], showfliers=False)\n",
    "ax.set_ylim((0,1))\n",
    "plt.xticks(rotation=90)\n",
    "plt.legend(bbox_to_anchor=(1.05, 1), loc='upper left', frameon = False)\n",
    "plt.savefig('figures/boxplot/clone_size_gini_v3.pdf')"
   ]
  },
  {
   "cell_type": "code",
   "execution_count": 23,
   "metadata": {},
   "outputs": [],
   "source": [
    "from scipy import stats\n",
    "all_t = list()\n",
    "all_p = list()\n",
    "for status in ['Healthy','Asymptomatic', 'Mild', 'Moderate','Severe','Critical']:\n",
    "    sub_df = data[data.Status_on_day_collection_summary == status]\n",
    "    g1 = sub_df[sub_df['Sex'] == 'Male']['clone_network_cluster_size_gini'].values\n",
    "    g2 = sub_df[sub_df['Sex'] == 'Female']['clone_network_cluster_size_gini'].values\n",
    "    _, p = stats.mannwhitneyu(g1, g2)\n",
    "    t, _ = stats.ttest_ind(g1, g2)\n",
    "    all_t.append(t)\n",
    "    all_p.append(p)"
   ]
  },
  {
   "cell_type": "code",
   "execution_count": 24,
   "metadata": {},
   "outputs": [
    {
     "data": {
      "text/plain": [
       "[4.95388572482446,\n",
       " -10.677022359781464,\n",
       " -19.383018770512695,\n",
       " -35.08847781608124,\n",
       " -22.758865270265897,\n",
       " -9.058263739130021]"
      ]
     },
     "execution_count": 24,
     "metadata": {},
     "output_type": "execute_result"
    }
   ],
   "source": [
    "all_t"
   ]
  },
  {
   "cell_type": "code",
   "execution_count": 25,
   "metadata": {},
   "outputs": [],
   "source": [
    "from dandelion.utilities import bh\n",
    "import numpy as np"
   ]
  },
  {
   "cell_type": "code",
   "execution_count": 26,
   "metadata": {
    "scrolled": true
   },
   "outputs": [
    {
     "data": {
      "text/plain": [
       "[0.40992937085079684,\n",
       " 1.0222394725733761e-31,\n",
       " 2.422960732203385e-269,\n",
       " 3.6883230895604656e-204,\n",
       " 3.62690605009554e-111,\n",
       " 0.44035012685213487]"
      ]
     },
     "execution_count": 26,
     "metadata": {},
     "output_type": "execute_result"
    }
   ],
   "source": [
    "all_p"
   ]
  },
  {
   "cell_type": "code",
   "execution_count": 27,
   "metadata": {
    "scrolled": true
   },
   "outputs": [
    {
     "data": {
      "text/plain": [
       "array([4.40350127e-001, 1.53335921e-031, 1.45377644e-268, 1.10649693e-203,\n",
       "       7.25381210e-111, 4.40350127e-001])"
      ]
     },
     "execution_count": 27,
     "metadata": {},
     "output_type": "execute_result"
    }
   ],
   "source": [
    "bh(np.array(all_p))"
   ]
  },
  {
   "cell_type": "code",
   "execution_count": 28,
   "metadata": {},
   "outputs": [],
   "source": [
    "from scipy import stats\n",
    "all_t = list()\n",
    "all_p = list()\n",
    "for status in ['Healthy','Asymptomatic', 'Mild', 'Moderate','Severe','Critical']:\n",
    "    sub_df = data[data.Status_on_day_collection_summary == status]\n",
    "    g1 = sub_df[sub_df['Sex'] == 'Male']['clone_network_vertex_size_gini'].values\n",
    "    g2 = sub_df[sub_df['Sex'] == 'Female']['clone_network_vertex_size_gini'].values\n",
    "    _, p = stats.mannwhitneyu(g1, g2)\n",
    "    t, _ = stats.ttest_ind(g1, g2)\n",
    "    all_t.append(t)\n",
    "    all_p.append(p)"
   ]
  },
  {
   "cell_type": "code",
   "execution_count": 29,
   "metadata": {},
   "outputs": [
    {
     "data": {
      "text/plain": [
       "[15.54673041811189,\n",
       " -15.229151743691128,\n",
       " 3.098277850193051,\n",
       " -8.170111853674912,\n",
       " -19.794932972290994,\n",
       " -11.0265147148057]"
      ]
     },
     "execution_count": 29,
     "metadata": {},
     "output_type": "execute_result"
    }
   ],
   "source": [
    "all_t"
   ]
  },
  {
   "cell_type": "code",
   "execution_count": 30,
   "metadata": {},
   "outputs": [],
   "source": [
    "from dandelion.utilities import bh\n",
    "import numpy as np"
   ]
  },
  {
   "cell_type": "code",
   "execution_count": 31,
   "metadata": {
    "scrolled": true
   },
   "outputs": [
    {
     "data": {
      "text/plain": [
       "[7.738290079023414e-62,\n",
       " 1.9588567797910337e-59,\n",
       " 7.572419801748978e-258,\n",
       " 1.772455217261269e-37,\n",
       " 3.899997511600113e-72,\n",
       " 0.11257916089538611]"
      ]
     },
     "execution_count": 31,
     "metadata": {},
     "output_type": "execute_result"
    }
   ],
   "source": [
    "all_p"
   ]
  },
  {
   "cell_type": "code",
   "execution_count": 32,
   "metadata": {
    "scrolled": true
   },
   "outputs": [
    {
     "data": {
      "text/plain": [
       "array([1.54765802e-061, 2.93828517e-059, 4.54345188e-257, 2.12694626e-037,\n",
       "       1.16999925e-071, 1.12579161e-001])"
      ]
     },
     "execution_count": 32,
     "metadata": {},
     "output_type": "execute_result"
    }
   ],
   "source": [
    "bh(np.array(all_p))"
   ]
  }
 ],
 "metadata": {
  "kernelspec": {
   "display_name": "Python 3",
   "language": "python",
   "name": "python3"
  },
  "language_info": {
   "codemirror_mode": {
    "name": "ipython",
    "version": 3
   },
   "file_extension": ".py",
   "mimetype": "text/x-python",
   "name": "python",
   "nbconvert_exporter": "python",
   "pygments_lexer": "ipython3",
   "version": "3.7.9"
  }
 },
 "nbformat": 4,
 "nbformat_minor": 4
}
